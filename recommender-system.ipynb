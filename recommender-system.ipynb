{
 "cells": [
  {
   "cell_type": "markdown",
   "metadata": {
    "toc": true
   },
   "source": [
    "<h1>Table of Contents<span class=\"tocSkip\"></span></h1>\n",
    "<div class=\"toc\"><ul class=\"toc-item\"><li><span><a href=\"#Import-the-necessary-libraries\" data-toc-modified-id=\"Import-the-necessary-libraries-1\">Import the necessary libraries</a></span></li><li><span><a href=\"#Read-the-data-as-a-data-frame\" data-toc-modified-id=\"Read-the-data-as-a-data-frame-2\">Read the data as a data frame</a></span></li><li><span><a href=\"#Attributes-and-Information\" data-toc-modified-id=\"Attributes-and-Information-3\">Attributes and Information</a></span></li><li><span><a href=\"#Perform-basic-EDA\" data-toc-modified-id=\"Perform-basic-EDA-4\">Perform basic EDA</a></span><ul class=\"toc-item\"><li><span><a href=\"#a.-Drop-'timestamp'-attribute\" data-toc-modified-id=\"a.-Drop-'timestamp'-attribute-4.1\">a. Drop 'timestamp' attribute</a></span></li><li><span><a href=\"#b.-Create-subset-of-the-original-dataset\" data-toc-modified-id=\"b.-Create-subset-of-the-original-dataset-4.2\">b. Create subset of the original dataset</a></span></li><li><span><a href=\"#c.-Shape-of-the-data\" data-toc-modified-id=\"c.-Shape-of-the-data-4.3\">c. Shape of the data</a></span></li><li><span><a href=\"#d.-Data-type-of-each-attribute\" data-toc-modified-id=\"d.-Data-type-of-each-attribute-4.4\">d. Data type of each attribute</a></span></li><li><span><a href=\"#e.-Checking-the-presence-of-missing-values\" data-toc-modified-id=\"e.-Checking-the-presence-of-missing-values-4.5\">e. Checking the presence of missing values</a></span></li><li><span><a href=\"#f.-5-point-summary-of-numerical-attributes\" data-toc-modified-id=\"f.-5-point-summary-of-numerical-attributes-4.6\">f. 5 point summary of numerical attributes</a></span><ul class=\"toc-item\"><li><span><a href=\"#Observations\" data-toc-modified-id=\"Observations-4.6.1\">Observations</a></span></li></ul></li><li><span><a href=\"#g.-Unique-Users-and-Products-Count\" data-toc-modified-id=\"g.-Unique-Users-and-Products-Count-4.7\">g. Unique Users and Products Count</a></span></li></ul></li><li><span><a href=\"#Data-Analysis-and-Visualization\" data-toc-modified-id=\"Data-Analysis-and-Visualization-5\">Data Analysis and Visualization</a></span><ul class=\"toc-item\"><li><span><a href=\"#a.-Rating-Distribution\" data-toc-modified-id=\"a.-Rating-Distribution-5.1\">a. Rating Distribution</a></span><ul class=\"toc-item\"><li><span><a href=\"#Observations\" data-toc-modified-id=\"Observations-5.1.1\">Observations</a></span></li><li><span><a href=\"#Observations\" data-toc-modified-id=\"Observations-5.1.2\">Observations</a></span></li></ul></li><li><span><a href=\"#b.-Top-Rating-Count-Distribution-grouped-by-Products\" data-toc-modified-id=\"b.-Top-Rating-Count-Distribution-grouped-by-Products-5.2\">b. Top Rating Count Distribution grouped by Products</a></span><ul class=\"toc-item\"><li><span><a href=\"#Observations\" data-toc-modified-id=\"Observations-5.2.1\">Observations</a></span></li></ul></li><li><span><a href=\"#c.-Top-Rating-Count-Distribution-grouped-by-Users\" data-toc-modified-id=\"c.-Top-Rating-Count-Distribution-grouped-by-Users-5.3\">c. Top Rating Count Distribution grouped by Users</a></span><ul class=\"toc-item\"><li><span><a href=\"#Observations\" data-toc-modified-id=\"Observations-5.3.1\">Observations</a></span></li></ul></li><li><span><a href=\"#d.-Mean-Rating-Distribution-grouped-by-Products\" data-toc-modified-id=\"d.-Mean-Rating-Distribution-grouped-by-Products-5.4\">d. Mean Rating Distribution grouped by Products</a></span><ul class=\"toc-item\"><li><span><a href=\"#Observations\" data-toc-modified-id=\"Observations-5.4.1\">Observations</a></span></li></ul></li><li><span><a href=\"#e.-Mean-Rating---Rating-Count-Distribution-grouped-by-Products\" data-toc-modified-id=\"e.-Mean-Rating---Rating-Count-Distribution-grouped-by-Products-5.5\">e. Mean Rating - Rating Count Distribution grouped by Products</a></span><ul class=\"toc-item\"><li><span><a href=\"#Observations\" data-toc-modified-id=\"Observations-5.5.1\">Observations</a></span></li></ul></li><li><span><a href=\"#f.-Mean-Rating-Distribution-grouped-by-Users\" data-toc-modified-id=\"f.-Mean-Rating-Distribution-grouped-by-Users-5.6\">f. Mean Rating Distribution grouped by Users</a></span><ul class=\"toc-item\"><li><span><a href=\"#Observations\" data-toc-modified-id=\"Observations-5.6.1\">Observations</a></span></li></ul></li><li><span><a href=\"#g.-Mean-Rating---Rating-Count-Distribution-grouped-by-Users\" data-toc-modified-id=\"g.-Mean-Rating---Rating-Count-Distribution-grouped-by-Users-5.7\">g. Mean Rating - Rating Count Distribution grouped by Users</a></span><ul class=\"toc-item\"><li><span><a href=\"#Observations\" data-toc-modified-id=\"Observations-5.7.1\">Observations</a></span></li></ul></li></ul></li><li><span><a href=\"#Split-the-data-into-training-and-test-set-in-the-ratio-of-70:30-respectively\" data-toc-modified-id=\"Split-the-data-into-training-and-test-set-in-the-ratio-of-70:30-respectively-6\">Split the data into training and test set in the ratio of 70:30 respectively</a></span></li><li><span><a href=\"#Recommender-Systems\" data-toc-modified-id=\"Recommender-Systems-7\">Recommender Systems</a></span><ul class=\"toc-item\"><li><span><a href=\"#a.-Popularity-Based-Recommender-Model\" data-toc-modified-id=\"a.-Popularity-Based-Recommender-Model-7.1\">a. Popularity Based Recommender Model</a></span><ul class=\"toc-item\"><li><span><a href=\"#Initialize\" data-toc-modified-id=\"Initialize-7.1.1\">Initialize</a></span></li><li><span><a href=\"#Fit\" data-toc-modified-id=\"Fit-7.1.2\">Fit</a></span></li><li><span><a href=\"#Recommend\" data-toc-modified-id=\"Recommend-7.1.3\">Recommend</a></span></li><li><span><a href=\"#Observations\" data-toc-modified-id=\"Observations-7.1.4\">Observations</a></span></li></ul></li><li><span><a href=\"#b.-Collaborative-Filtering-Recommender-Model-using-SURPRISE-Library\" data-toc-modified-id=\"b.-Collaborative-Filtering-Recommender-Model-using-SURPRISE-Library-7.2\">b. Collaborative Filtering Recommender Model using SURPRISE Library</a></span><ul class=\"toc-item\"><li><span><a href=\"#Load-Surprise-Data-from-DataFrame\" data-toc-modified-id=\"Load-Surprise-Data-from-DataFrame-7.2.1\">Load Surprise Data from DataFrame</a></span></li><li><span><a href=\"#Split-the-data-into-training-and-test-set-in-the-ratio-of-70:30-respectively\" data-toc-modified-id=\"Split-the-data-into-training-and-test-set-in-the-ratio-of-70:30-respectively-7.2.2\">Split the data into training and test set in the ratio of 70:30 respectively</a></span></li><li><span><a href=\"#KNN-With-Means---Memory-Based-Collaborative-Filtering\" data-toc-modified-id=\"KNN-With-Means---Memory-Based-Collaborative-Filtering-7.2.3\">KNN With Means - Memory Based Collaborative Filtering</a></span><ul class=\"toc-item\"><li><span><a href=\"#Find-optimal-model-using-RandomizedSearchCV\" data-toc-modified-id=\"Find-optimal-model-using-RandomizedSearchCV-7.2.3.1\">Find optimal model using RandomizedSearchCV</a></span></li><li><span><a href=\"#Initialize\" data-toc-modified-id=\"Initialize-7.2.3.2\">Initialize</a></span></li><li><span><a href=\"#Fit-and-Predict\" data-toc-modified-id=\"Fit-and-Predict-7.2.3.3\">Fit and Predict</a></span></li><li><span><a href=\"#Cross-Validate\" data-toc-modified-id=\"Cross-Validate-7.2.3.4\">Cross Validate</a></span></li><li><span><a href=\"#Recommend\" data-toc-modified-id=\"Recommend-7.2.3.5\">Recommend</a></span></li><li><span><a href=\"#Observations\" data-toc-modified-id=\"Observations-7.2.3.6\">Observations</a></span></li></ul></li><li><span><a href=\"#SVD---Model-Based-Collaborative-Filtering\" data-toc-modified-id=\"SVD---Model-Based-Collaborative-Filtering-7.2.4\">SVD - Model Based Collaborative Filtering</a></span><ul class=\"toc-item\"><li><span><a href=\"#Find-optimal-model-using-RandomizedSearchCV\" data-toc-modified-id=\"Find-optimal-model-using-RandomizedSearchCV-7.2.4.1\">Find optimal model using RandomizedSearchCV</a></span></li><li><span><a href=\"#Initialize\" data-toc-modified-id=\"Initialize-7.2.4.2\">Initialize</a></span></li><li><span><a href=\"#Fit-and-Predict\" data-toc-modified-id=\"Fit-and-Predict-7.2.4.3\">Fit and Predict</a></span></li><li><span><a href=\"#Cross-Validate\" data-toc-modified-id=\"Cross-Validate-7.2.4.4\">Cross Validate</a></span></li><li><span><a href=\"#Recommend\" data-toc-modified-id=\"Recommend-7.2.4.5\">Recommend</a></span></li><li><span><a href=\"#Observations\" data-toc-modified-id=\"Observations-7.2.4.6\">Observations</a></span></li></ul></li><li><span><a href=\"#Other-SURPRISE-algorithms\" data-toc-modified-id=\"Other-SURPRISE-algorithms-7.2.5\">Other SURPRISE algorithms</a></span><ul class=\"toc-item\"><li><span><a href=\"#Observations\" data-toc-modified-id=\"Observations-7.2.5.1\">Observations</a></span></li></ul></li></ul></li></ul></li><li><span><a href=\"#Conclusion\" data-toc-modified-id=\"Conclusion-8\">Conclusion</a></span><ul class=\"toc-item\"><li><span><a href=\"#Popularity-Based-Recommendation-Model\" data-toc-modified-id=\"Popularity-Based-Recommendation-Model-8.1\">Popularity Based Recommendation Model</a></span></li><li><span><a href=\"#Collaborative-Filtering-Recommendation-Model\" data-toc-modified-id=\"Collaborative-Filtering-Recommendation-Model-8.2\">Collaborative Filtering Recommendation Model</a></span><ul class=\"toc-item\"><li><span><a href=\"#KNNWithMeans-Model\" data-toc-modified-id=\"KNNWithMeans-Model-8.2.1\">KNNWithMeans Model</a></span></li><li><span><a href=\"#SVD-Model\" data-toc-modified-id=\"SVD-Model-8.2.2\">SVD Model</a></span></li></ul></li></ul></li><li><span><a href=\"#END\" data-toc-modified-id=\"END-9\">END</a></span></li></ul></div>"
   ]
  },
  {
   "cell_type": "markdown",
   "metadata": {},
   "source": [
    "<a id=\"a1\"></a>\n",
    "# Import the necessary libraries"
   ]
  },
  {
   "cell_type": "code",
   "execution_count": 1,
   "metadata": {},
   "outputs": [],
   "source": [
    "import os\n",
    "import numpy as np\n",
    "import pandas as pd\n",
    "# import pandas_profiling \n",
    "import matplotlib.pyplot as plt\n",
    "import seaborn as sns\n",
    "sns.set_color_codes()\n",
    "sns.set(style=\"whitegrid\")\n",
    "%matplotlib inline\n",
    "from scipy.stats import zscore\n",
    "from sklearn import metrics\n",
    "from sklearn.model_selection import train_test_split\n",
    "from sklearn.model_selection import KFold\n",
    "from sklearn.model_selection import cross_val_score\n",
    "from sklearn.decomposition import PCA\n",
    "from sklearn.preprocessing import StandardScaler\n",
    "from sklearn.metrics import mean_squared_error\n",
    "from math import sqrt\n",
    "\n",
    "import warnings\n",
    "warnings.filterwarnings('ignore')\n",
    "\n",
    "import requests\n",
    "from io import StringIO\n",
    "\n",
    "#setting up for customized printing\n",
    "from IPython.display import Markdown, display\n",
    "from IPython.display import HTML\n",
    "def printmd(string, color=None):\n",
    "    colorstr = \"<span style='color:{}'>{}</span>\".format(color, string)\n",
    "    display(Markdown(colorstr))\n",
    "    \n",
    "#function to display dataframes side by side    \n",
    "from IPython.display import display_html\n",
    "def display_side_by_side(args):\n",
    "    html_str=''\n",
    "    for df in args:\n",
    "        html_str+=df.to_html()\n",
    "    display_html(html_str.replace('table','table style=\"display:inline;margin-left:50px !important;margin-right: 40px !important\"'),raw=True)"
   ]
  },
  {
   "cell_type": "code",
   "execution_count": 2,
   "metadata": {},
   "outputs": [],
   "source": [
    "def distplot(figRows,figCols,xSize, ySize, data, features, colors, kde=True, bins=None):\n",
    "    f, axes = plt.subplots(figRows, figCols, figsize=(xSize, ySize))\n",
    "    \n",
    "    features = np.array(features).reshape(figRows, figCols)\n",
    "    colors = np.array(colors).reshape(figRows, figCols)\n",
    "    \n",
    "    for row in range(figRows):\n",
    "        for col in range(figCols):\n",
    "            if (figRows == 1 and figCols == 1) :\n",
    "                axesplt = axes\n",
    "            elif (figRows == 1 and figCols > 1) :\n",
    "                axesplt = axes[col]\n",
    "            elif (figRows > 1 and figCols == 1) :\n",
    "                axesplt = axes[row]\n",
    "            else:\n",
    "                axesplt = axes[row][col]\n",
    "            plot = sns.distplot(data[features[row][col]], color=colors[row][col], bins=bins, ax=axesplt, kde=kde, hist_kws={\"edgecolor\":\"k\"})\n",
    "            plot.set_xlabel(features[row][col],fontsize=20)"
   ]
  },
  {
   "cell_type": "code",
   "execution_count": 3,
   "metadata": {},
   "outputs": [],
   "source": [
    "def scatterplot(rowFeature, colFeature, data):\n",
    "    f, axes = plt.subplots(1, 1, figsize=(10, 8))\n",
    "        \n",
    "    plot=sns.scatterplot(x=rowFeature, y=colFeature, data=data, ax=axes)\n",
    "    plot.set_xlabel(rowFeature,fontsize=20)\n",
    "    plot.set_ylabel(colFeature,fontsize=20)            "
   ]
  },
  {
   "cell_type": "markdown",
   "metadata": {},
   "source": [
    "<a id=\"a2\"></a>\n",
    "# Read the data as a data frame"
   ]
  },
  {
   "cell_type": "code",
   "execution_count": 4,
   "metadata": {},
   "outputs": [],
   "source": [
    "curr_dir=os.getcwd()\n",
    "rel_file_path='Data\\\\ratings_electronics.csv'\n",
    "full_file_path = os.path.join(curr_dir, rel_file_path)\n",
    "electronics = pd.read_csv(full_file_path, names=['userId', 'productId', 'Rating','timestamp'], header=None)"
   ]
  },
  {
   "cell_type": "code",
   "execution_count": 5,
   "metadata": {},
   "outputs": [
    {
     "data": {
      "text/html": [
       "<div>\n",
       "<style scoped>\n",
       "    .dataframe tbody tr th:only-of-type {\n",
       "        vertical-align: middle;\n",
       "    }\n",
       "\n",
       "    .dataframe tbody tr th {\n",
       "        vertical-align: top;\n",
       "    }\n",
       "\n",
       "    .dataframe thead th {\n",
       "        text-align: right;\n",
       "    }\n",
       "</style>\n",
       "<table border=\"1\" class=\"dataframe\">\n",
       "  <thead>\n",
       "    <tr style=\"text-align: right;\">\n",
       "      <th></th>\n",
       "      <th>userId</th>\n",
       "      <th>productId</th>\n",
       "      <th>Rating</th>\n",
       "      <th>timestamp</th>\n",
       "    </tr>\n",
       "  </thead>\n",
       "  <tbody>\n",
       "    <tr>\n",
       "      <th>0</th>\n",
       "      <td>AKM1MP6P0OYPR</td>\n",
       "      <td>0132793040</td>\n",
       "      <td>5.0</td>\n",
       "      <td>1365811200</td>\n",
       "    </tr>\n",
       "    <tr>\n",
       "      <th>1</th>\n",
       "      <td>A2CX7LUOHB2NDG</td>\n",
       "      <td>0321732944</td>\n",
       "      <td>5.0</td>\n",
       "      <td>1341100800</td>\n",
       "    </tr>\n",
       "    <tr>\n",
       "      <th>2</th>\n",
       "      <td>A2NWSAGRHCP8N5</td>\n",
       "      <td>0439886341</td>\n",
       "      <td>1.0</td>\n",
       "      <td>1367193600</td>\n",
       "    </tr>\n",
       "    <tr>\n",
       "      <th>3</th>\n",
       "      <td>A2WNBOD3WNDNKT</td>\n",
       "      <td>0439886341</td>\n",
       "      <td>3.0</td>\n",
       "      <td>1374451200</td>\n",
       "    </tr>\n",
       "    <tr>\n",
       "      <th>4</th>\n",
       "      <td>A1GI0U4ZRJA8WN</td>\n",
       "      <td>0439886341</td>\n",
       "      <td>1.0</td>\n",
       "      <td>1334707200</td>\n",
       "    </tr>\n",
       "  </tbody>\n",
       "</table>\n",
       "</div>"
      ],
      "text/plain": [
       "           userId   productId  Rating   timestamp\n",
       "0   AKM1MP6P0OYPR  0132793040     5.0  1365811200\n",
       "1  A2CX7LUOHB2NDG  0321732944     5.0  1341100800\n",
       "2  A2NWSAGRHCP8N5  0439886341     1.0  1367193600\n",
       "3  A2WNBOD3WNDNKT  0439886341     3.0  1374451200\n",
       "4  A1GI0U4ZRJA8WN  0439886341     1.0  1334707200"
      ]
     },
     "execution_count": 5,
     "metadata": {},
     "output_type": "execute_result"
    }
   ],
   "source": [
    "electronics.head()"
   ]
  },
  {
   "cell_type": "markdown",
   "metadata": {},
   "source": [
    "<a id=\"a3\"></a>\n",
    "# Attributes and Information"
   ]
  },
  {
   "cell_type": "markdown",
   "metadata": {},
   "source": [
    "1. **userId** : Every user identified with a unique id<br>\n",
    "2. **productId** : Every product identified with a unique id<br>\n",
    "3. **Rating** : Rating of the corresponding product by the corresponding user<br>\n",
    "4. **timestamp** : Time of the rating"
   ]
  },
  {
   "cell_type": "markdown",
   "metadata": {},
   "source": [
    "<a id=\"a4\"></a>\n",
    "# Perform basic EDA"
   ]
  },
  {
   "cell_type": "markdown",
   "metadata": {},
   "source": [
    "<a id=\"a4a\"></a>\n",
    "## a. Drop 'timestamp' attribute"
   ]
  },
  {
   "cell_type": "code",
   "execution_count": 6,
   "metadata": {},
   "outputs": [],
   "source": [
    "electronics.drop('timestamp', axis=1, inplace=True)"
   ]
  },
  {
   "cell_type": "markdown",
   "metadata": {},
   "source": [
    "<a id=\"a4b\"></a>\n",
    "## b. Create subset of the original dataset"
   ]
  },
  {
   "cell_type": "markdown",
   "metadata": {},
   "source": [
    "**Filtering the users who has given 50 or more number of ratings**"
   ]
  },
  {
   "cell_type": "code",
   "execution_count": 7,
   "metadata": {},
   "outputs": [],
   "source": [
    "# electronics_groupby_users_Ratings = electronics.groupby('userId')['Rating']\n",
    "# electronics_groupby_users_Ratings = pd.DataFrame(electronics_groupby_users_Ratings.count())\n",
    "# user_list_min50_ratings = electronics_groupby_users_Ratings[electronics_groupby_users_Ratings['Rating'] >= 50].index\n",
    "# electronics =  electronics[electronics['userId'].isin(user_list_min50_ratings)]"
   ]
  },
  {
   "cell_type": "code",
   "execution_count": 7,
   "metadata": {},
   "outputs": [],
   "source": [
    "user_ratings_counts = electronics.groupby('userId')['Rating'].count()\n",
    "user_list_min50_ratings = user_ratings_counts[user_ratings_counts >= 50].index\n",
    "electronics = electronics[electronics['userId'].isin(user_list_min50_ratings)]"
   ]
  },
  {
   "cell_type": "markdown",
   "metadata": {},
   "source": [
    "<a id=\"a4c\"></a>\n",
    "## c. Shape of the data"
   ]
  },
  {
   "cell_type": "code",
   "execution_count": 8,
   "metadata": {},
   "outputs": [
    {
     "name": "stdout",
     "output_type": "stream",
     "text": [
      "The total number of rows : 125871\n",
      "The total number of columns : 3\n"
     ]
    }
   ],
   "source": [
    "print('The total number of rows :', electronics.shape[0])\n",
    "print('The total number of columns :', electronics.shape[1])"
   ]
  },
  {
   "cell_type": "markdown",
   "metadata": {},
   "source": [
    "<a id=\"a4d\"></a>\n",
    "## d. Data type of each attribute"
   ]
  },
  {
   "cell_type": "code",
   "execution_count": 9,
   "metadata": {},
   "outputs": [
    {
     "name": "stdout",
     "output_type": "stream",
     "text": [
      "<class 'pandas.core.frame.DataFrame'>\n",
      "Int64Index: 125871 entries, 94 to 7824444\n",
      "Data columns (total 3 columns):\n",
      " #   Column     Non-Null Count   Dtype  \n",
      "---  ------     --------------   -----  \n",
      " 0   userId     125871 non-null  object \n",
      " 1   productId  125871 non-null  object \n",
      " 2   Rating     125871 non-null  float64\n",
      "dtypes: float64(1), object(2)\n",
      "memory usage: 3.8+ MB\n"
     ]
    }
   ],
   "source": [
    "electronics.info()"
   ]
  },
  {
   "cell_type": "markdown",
   "metadata": {},
   "source": [
    "<a id=\"a4f\"></a>\n",
    "## f. 5 point summary of numerical attributes"
   ]
  },
  {
   "cell_type": "code",
   "execution_count": 10,
   "metadata": {},
   "outputs": [
    {
     "data": {
      "text/html": [
       "<div>\n",
       "<style scoped>\n",
       "    .dataframe tbody tr th:only-of-type {\n",
       "        vertical-align: middle;\n",
       "    }\n",
       "\n",
       "    .dataframe tbody tr th {\n",
       "        vertical-align: top;\n",
       "    }\n",
       "\n",
       "    .dataframe thead th {\n",
       "        text-align: right;\n",
       "    }\n",
       "</style>\n",
       "<table border=\"1\" class=\"dataframe\">\n",
       "  <thead>\n",
       "    <tr style=\"text-align: right;\">\n",
       "      <th></th>\n",
       "      <th>count</th>\n",
       "      <th>mean</th>\n",
       "      <th>std</th>\n",
       "      <th>min</th>\n",
       "      <th>25%</th>\n",
       "      <th>50%</th>\n",
       "      <th>75%</th>\n",
       "      <th>max</th>\n",
       "    </tr>\n",
       "  </thead>\n",
       "  <tbody>\n",
       "    <tr>\n",
       "      <th>Rating</th>\n",
       "      <td>125871.0</td>\n",
       "      <td>4.261339</td>\n",
       "      <td>1.062144</td>\n",
       "      <td>1.0</td>\n",
       "      <td>4.0</td>\n",
       "      <td>5.0</td>\n",
       "      <td>5.0</td>\n",
       "      <td>5.0</td>\n",
       "    </tr>\n",
       "  </tbody>\n",
       "</table>\n",
       "</div>"
      ],
      "text/plain": [
       "           count      mean       std  min  25%  50%  75%  max\n",
       "Rating  125871.0  4.261339  1.062144  1.0  4.0  5.0  5.0  5.0"
      ]
     },
     "execution_count": 10,
     "metadata": {},
     "output_type": "execute_result"
    }
   ],
   "source": [
    "electronics[['Rating']].describe().transpose()"
   ]
  },
  {
   "cell_type": "markdown",
   "metadata": {},
   "source": [
    "### Observations\n",
    "\n",
    "**Rating** : This categorical attribute adopts values within (1, 2, 3, 4, 5). With a mean rating of 4.26, it's apparent that a majority of users have assigned commendable ratings (above 4). This is emphasized by the median, 75th percentile, and maximum all converging at 5. Even the 25th percentile rests at 4.0, reinforcing the prevalent favorable ratings."
   ]
  },
  {
   "cell_type": "markdown",
   "metadata": {},
   "source": [
    "<a id=\"a4g\"></a>\n",
    "## g. Unique Users and Products Count"
   ]
  },
  {
   "cell_type": "code",
   "execution_count": 11,
   "metadata": {},
   "outputs": [
    {
     "name": "stdout",
     "output_type": "stream",
     "text": [
      "Total unique users in the dataset 1540\n",
      "Total unique products in the dataset 48190\n"
     ]
    }
   ],
   "source": [
    "print('Total unique users in the dataset', electronics['userId'].nunique())\n",
    "print('Total unique products in the dataset', electronics['productId'].nunique())"
   ]
  },
  {
   "cell_type": "markdown",
   "metadata": {},
   "source": [
    "<a id=\"a5\"></a>\n",
    "# Data Analysis and Visualization"
   ]
  },
  {
   "cell_type": "markdown",
   "metadata": {},
   "source": [
    "<a id=\"a5a\"></a>\n",
    "## a. Rating Distribution"
   ]
  },
  {
   "cell_type": "code",
   "execution_count": 12,
   "metadata": {},
   "outputs": [],
   "source": [
    "pal = sns.color_palette(palette='Set1', n_colors=16)"
   ]
  },
  {
   "cell_type": "code",
   "execution_count": 13,
   "metadata": {},
   "outputs": [
    {
     "data": {
      "image/png": "[encoded data removed]",
      "text/plain": [
       "<Figure size 640x480 with 1 Axes>"
      ]
     },
     "metadata": {},
     "output_type": "display_data"
    }
   ],
   "source": [
    "sns.distplot(electronics['Rating'], kde=False);"
   ]
  },
  {
   "cell_type": "markdown",
   "metadata": {},
   "source": [
    "### Observations\n",
    "\n",
    "1. A lot of users gave a rating of 5, as seen in the big spike with over 70,000 records.\n",
    "2. The next popular rating is 4, with more than 30,000 records.\n",
    "3. About 10,000 users gave a rating of 3.\n",
    "4. Ratings 1 and 2 received fewer than 10,000 records each."
   ]
  },
  {
   "cell_type": "markdown",
   "metadata": {},
   "source": [
    "<a id=\"a5b\"></a>\n",
    "## b. Top Rating Count Distribution grouped by Products"
   ]
  },
  {
   "cell_type": "code",
   "execution_count": 14,
   "metadata": {},
   "outputs": [],
   "source": [
    "rating_count_per_product = pd.DataFrame(electronics.groupby('productId')['Rating'].count().reset_index())"
   ]
  },
  {
   "cell_type": "code",
   "execution_count": 15,
   "metadata": {},
   "outputs": [
    {
     "data": {
      "text/html": [
       "<div>\n",
       "<style scoped>\n",
       "    .dataframe tbody tr th:only-of-type {\n",
       "        vertical-align: middle;\n",
       "    }\n",
       "\n",
       "    .dataframe tbody tr th {\n",
       "        vertical-align: top;\n",
       "    }\n",
       "\n",
       "    .dataframe thead th {\n",
       "        text-align: right;\n",
       "    }\n",
       "</style>\n",
       "<table border=\"1\" class=\"dataframe\">\n",
       "  <thead>\n",
       "    <tr style=\"text-align: right;\">\n",
       "      <th></th>\n",
       "      <th>productId</th>\n",
       "      <th>RatingCount</th>\n",
       "    </tr>\n",
       "  </thead>\n",
       "  <tbody>\n",
       "    <tr>\n",
       "      <th>0</th>\n",
       "      <td>0594451647</td>\n",
       "      <td>1</td>\n",
       "    </tr>\n",
       "    <tr>\n",
       "      <th>1</th>\n",
       "      <td>0594481813</td>\n",
       "      <td>1</td>\n",
       "    </tr>\n",
       "    <tr>\n",
       "      <th>2</th>\n",
       "      <td>0970407998</td>\n",
       "      <td>2</td>\n",
       "    </tr>\n",
       "    <tr>\n",
       "      <th>3</th>\n",
       "      <td>0972683275</td>\n",
       "      <td>4</td>\n",
       "    </tr>\n",
       "    <tr>\n",
       "      <th>4</th>\n",
       "      <td>1400501466</td>\n",
       "      <td>6</td>\n",
       "    </tr>\n",
       "  </tbody>\n",
       "</table>\n",
       "</div>"
      ],
      "text/plain": [
       "    productId  RatingCount\n",
       "0  0594451647            1\n",
       "1  0594481813            1\n",
       "2  0970407998            2\n",
       "3  0972683275            4\n",
       "4  1400501466            6"
      ]
     },
     "execution_count": 15,
     "metadata": {},
     "output_type": "execute_result"
    }
   ],
   "source": [
    "rating_count_per_product.rename(columns={'Rating': 'RatingCount'}, inplace = True)\n",
    "rating_count_per_product.head()"
   ]
  },
  {
   "cell_type": "code",
   "execution_count": 16,
   "metadata": {},
   "outputs": [
    {
     "data": {
      "text/html": [
       "<div>\n",
       "<style scoped>\n",
       "    .dataframe tbody tr th:only-of-type {\n",
       "        vertical-align: middle;\n",
       "    }\n",
       "\n",
       "    .dataframe tbody tr th {\n",
       "        vertical-align: top;\n",
       "    }\n",
       "\n",
       "    .dataframe thead th {\n",
       "        text-align: right;\n",
       "    }\n",
       "</style>\n",
       "<table border=\"1\" class=\"dataframe\">\n",
       "  <thead>\n",
       "    <tr style=\"text-align: right;\">\n",
       "      <th></th>\n",
       "      <th>RatingCount</th>\n",
       "      <th>CountFrequency</th>\n",
       "    </tr>\n",
       "  </thead>\n",
       "  <tbody>\n",
       "    <tr>\n",
       "      <th>96</th>\n",
       "      <td>206</td>\n",
       "      <td>1</td>\n",
       "    </tr>\n",
       "    <tr>\n",
       "      <th>95</th>\n",
       "      <td>184</td>\n",
       "      <td>1</td>\n",
       "    </tr>\n",
       "    <tr>\n",
       "      <th>94</th>\n",
       "      <td>167</td>\n",
       "      <td>1</td>\n",
       "    </tr>\n",
       "    <tr>\n",
       "      <th>93</th>\n",
       "      <td>164</td>\n",
       "      <td>1</td>\n",
       "    </tr>\n",
       "    <tr>\n",
       "      <th>92</th>\n",
       "      <td>149</td>\n",
       "      <td>1</td>\n",
       "    </tr>\n",
       "    <tr>\n",
       "      <th>...</th>\n",
       "      <td>...</td>\n",
       "      <td>...</td>\n",
       "    </tr>\n",
       "    <tr>\n",
       "      <th>4</th>\n",
       "      <td>5</td>\n",
       "      <td>1082</td>\n",
       "    </tr>\n",
       "    <tr>\n",
       "      <th>3</th>\n",
       "      <td>4</td>\n",
       "      <td>1723</td>\n",
       "    </tr>\n",
       "    <tr>\n",
       "      <th>2</th>\n",
       "      <td>3</td>\n",
       "      <td>2968</td>\n",
       "    </tr>\n",
       "    <tr>\n",
       "      <th>1</th>\n",
       "      <td>2</td>\n",
       "      <td>6975</td>\n",
       "    </tr>\n",
       "    <tr>\n",
       "      <th>0</th>\n",
       "      <td>1</td>\n",
       "      <td>30835</td>\n",
       "    </tr>\n",
       "  </tbody>\n",
       "</table>\n",
       "<p>97 rows × 2 columns</p>\n",
       "</div>"
      ],
      "text/plain": [
       "    RatingCount  CountFrequency\n",
       "96          206               1\n",
       "95          184               1\n",
       "94          167               1\n",
       "93          164               1\n",
       "92          149               1\n",
       "..          ...             ...\n",
       "4             5            1082\n",
       "3             4            1723\n",
       "2             3            2968\n",
       "1             2            6975\n",
       "0             1           30835\n",
       "\n",
       "[97 rows x 2 columns]"
      ]
     },
     "execution_count": 16,
     "metadata": {},
     "output_type": "execute_result"
    }
   ],
   "source": [
    "rating_count_frequency = pd.DataFrame(rating_count_per_product.groupby('RatingCount')['productId'].count().reset_index())\n",
    "rating_count_frequency.rename(columns={'productId': 'CountFrequency'}, inplace = True)\n",
    "rating_count_frequency.sort_values(['RatingCount'], ascending = False)"
   ]
  },
  {
   "cell_type": "code",
   "execution_count": 17,
   "metadata": {},
   "outputs": [
    {
     "data": {
      "image/png": "[encoded data removed]",
      "text/plain": [
       "<Figure size 640x480 with 1 Axes>"
      ]
     },
     "metadata": {},
     "output_type": "display_data"
    }
   ],
   "source": [
    "sns.scatterplot(data=rating_count_frequency, x=\"RatingCount\", y=\"CountFrequency\");"
   ]
  },
  {
   "cell_type": "code",
   "execution_count": 18,
   "metadata": {},
   "outputs": [
    {
     "data": {
      "image/png": "[encoded data removed]",
      "text/plain": [
       "<Figure size 640x480 with 1 Axes>"
      ]
     },
     "metadata": {},
     "output_type": "display_data"
    }
   ],
   "source": [
    "rcf_plot = rating_count_frequency.where(rating_count_frequency['CountFrequency']>=30).dropna()\n",
    "sns.lineplot(data = rcf_plot, x='RatingCount', y='CountFrequency', markers=True, marker='o', markerfacecolor='black');"
   ]
  },
  {
   "cell_type": "markdown",
   "metadata": {},
   "source": [
    "**Inference:**\n",
    "\n",
    "- The majority of products have received just a single rating, followed by products with two and three ratings.\n",
    "- Only a small fraction of products have garnered more than 100 ratings."
   ]
  },
  {
   "cell_type": "markdown",
   "metadata": {},
   "source": [
    "<a id=\"a5c\"></a>\n",
    "## c. Top Rating Count Distribution grouped by Users"
   ]
  },
  {
   "cell_type": "code",
   "execution_count": 19,
   "metadata": {},
   "outputs": [],
   "source": [
    "electronics_groupby_users_Ratings = electronics.groupby('userId')['Rating']"
   ]
  },
  {
   "cell_type": "code",
   "execution_count": 20,
   "metadata": {},
   "outputs": [
    {
     "data": {
      "text/plain": [
       "array([116, 132,  68,  71,  65,  57,  96,  80, 107, 123,  77, 130,  52,\n",
       "        89, 112,  67,  86,  66,  75, 205,  58,  50, 216,  92,  54,  64,\n",
       "        51, 252,  72,  81,  74,  53,  62,  70, 104, 102,  60,  63, 157,\n",
       "        99,  56,  55,  61, 261, 151,  94,  78, 119,  83,  73, 144, 177,\n",
       "       149, 106,  82,  69, 108, 196,  76, 221, 197, 200, 155, 208, 207,\n",
       "       181, 160, 213,  59, 103,  85,  98, 145, 218,  84, 101,  91, 100,\n",
       "        88, 114,  79,  93, 131, 142, 380,  90,  95, 126, 110, 105,  97,\n",
       "       167, 227, 128, 127, 247, 129, 220, 121,  87, 202, 109, 156, 111,\n",
       "       162, 240, 125, 137, 150, 292, 270, 115, 226, 296, 311, 176, 170,\n",
       "       122, 117, 159, 277, 238, 120, 253, 138, 171, 136, 314, 282, 236,\n",
       "       257, 204, 146, 124, 174, 279, 118, 199, 209, 498, 266, 143, 169,\n",
       "       134, 173, 147, 182, 163, 180, 153, 225, 520, 406, 431, 193, 139,\n",
       "       501, 239, 244, 192, 141, 198, 212, 308, 168, 189], dtype=int64)"
      ]
     },
     "execution_count": 20,
     "metadata": {},
     "output_type": "execute_result"
    }
   ],
   "source": [
    "electronics_groupby_users_Ratings.count().clip(lower=50).unique()"
   ]
  },
  {
   "cell_type": "code",
   "execution_count": 21,
   "metadata": {},
   "outputs": [],
   "source": [
    "rating_users = pd.DataFrame(electronics_groupby_users_Ratings.count().clip(lower=50, upper=300))\n",
    "rating_users.rename(columns={\"Rating\": \"Rating_Count\"}, inplace=True)"
   ]
  },
  {
   "cell_type": "code",
   "execution_count": 22,
   "metadata": {},
   "outputs": [
    {
     "data": {
      "image/png": "[encoded data removed]",
      "text/plain": [
       "<Figure size 1000x700 with 1 Axes>"
      ]
     },
     "metadata": {},
     "output_type": "display_data"
    }
   ],
   "source": [
    "distplot(1, 1, 10, 7, data=rating_users, features=['Rating_Count'], colors=['orange'], kde=False, bins=50)"
   ]
  },
  {
   "cell_type": "markdown",
   "metadata": {},
   "source": [
    "### Observations\n",
    "\n",
    "This is a ratings count distribution grouped by all the Users. For the plot perspective, I have clipped the count limit between 50 to 300 which means any value below 50 or above 300 will be set to the respective values. \n",
    "\n",
    "As it can been seen from the plot, there are many users which have rated 50 times or below. Ratings count by users gradually decreases which means few users have rated many products. "
   ]
  },
  {
   "cell_type": "markdown",
   "metadata": {},
   "source": [
    "<a id=\"a5d\"></a>\n",
    "## d. Mean Rating Distribution grouped by Products"
   ]
  },
  {
   "cell_type": "code",
   "execution_count": 23,
   "metadata": {},
   "outputs": [],
   "source": [
    "ratings = pd.DataFrame(electronics.groupby('productId')['Rating'].mean())\n",
    "ratings.rename(columns={\"Rating\": \"Rating_Mean\"}, inplace=True)"
   ]
  },
  {
   "cell_type": "code",
   "execution_count": 24,
   "metadata": {},
   "outputs": [
    {
     "data": {
      "image/png": "[encoded data removed]",
      "text/plain": [
       "<Figure size 1000x700 with 1 Axes>"
      ]
     },
     "metadata": {},
     "output_type": "display_data"
    }
   ],
   "source": [
    "distplot(1, 1, 10, 7, data=ratings, features=['Rating_Mean'], colors=['brown'], kde=False, bins=50)"
   ]
  },
  {
   "cell_type": "markdown",
   "metadata": {},
   "source": [
    "### Observations\n",
    "\n",
    "This is a mean rating distribution grouped by all the Products.\n",
    "\n",
    "As it can been seen from the plot, there are many products which were given a Rating of 4 or 5. Hence the plot shows lot of bins between 4 and 5. "
   ]
  },
  {
   "cell_type": "markdown",
   "metadata": {},
   "source": [
    "<a id=\"a5e\"></a>\n",
    "## e. Mean Rating - Rating Count Distribution grouped by Products"
   ]
  },
  {
   "cell_type": "code",
   "execution_count": 25,
   "metadata": {},
   "outputs": [],
   "source": [
    "ratings['Rating_Count'] = electronics.groupby('productId')['Rating'].count()"
   ]
  },
  {
   "cell_type": "code",
   "execution_count": 30,
   "metadata": {},
   "outputs": [
    {
     "data": {
      "image/png": "[encoded data removed]",
      "text/plain": [
       "<Figure size 720x576 with 1 Axes>"
      ]
     },
     "metadata": {
      "needs_background": "light"
     },
     "output_type": "display_data"
    }
   ],
   "source": [
    "scatterplot('Rating_Mean', 'Rating_Count', data=ratings)"
   ]
  },
  {
   "cell_type": "markdown",
   "metadata": {},
   "source": [
    "### Observations\n",
    "\n",
    "This is a joint plot between Mean rating distribution and Rating Count grouped by all the Products. As shown in the plot, data is clustered between mean rating of 3.5 to 5. "
   ]
  },
  {
   "cell_type": "markdown",
   "metadata": {},
   "source": [
    "<a id=\"a5f\"></a>\n",
    "## f. Mean Rating Distribution grouped by Users"
   ]
  },
  {
   "cell_type": "code",
   "execution_count": 31,
   "metadata": {},
   "outputs": [
    {
     "data": {
      "image/png": "[encoded data removed]",
      "text/plain": [
       "<Figure size 720x504 with 1 Axes>"
      ]
     },
     "metadata": {
      "needs_background": "light"
     },
     "output_type": "display_data"
    }
   ],
   "source": [
    "ratings = pd.DataFrame(electronics.groupby('userId')['Rating'].mean())\n",
    "ratings.rename(columns={\"Rating\": \"Rating_Mean\"}, inplace=True)\n",
    "distplot(1, 1, 10, 7, data=ratings, features=['Rating_Mean'], colors=['brown'], kde=False, bins=50)"
   ]
  },
  {
   "cell_type": "markdown",
   "metadata": {},
   "source": [
    "### Observations\n",
    "\n",
    "This is a mean rating distribution grouped by all the Users. This looks like slightly left skewed normal distribution.\n",
    "\n",
    "Data is uniformly distribution from rating 3 to 5 with many around 4 to 4.5. Many users have an average rating of around 4.5. "
   ]
  },
  {
   "cell_type": "markdown",
   "metadata": {},
   "source": [
    "<a id=\"a5g\"></a>\n",
    "## g. Mean Rating - Rating Count Distribution grouped by Users"
   ]
  },
  {
   "cell_type": "code",
   "execution_count": 32,
   "metadata": {},
   "outputs": [
    {
     "data": {
      "image/png": "[encoded data removed]",
      "text/plain": [
       "<Figure size 720x576 with 1 Axes>"
      ]
     },
     "metadata": {
      "needs_background": "light"
     },
     "output_type": "display_data"
    }
   ],
   "source": [
    "ratings['Rating_Count'] = electronics.groupby('userId')['Rating'].count()\n",
    "scatterplot('Rating_Mean', 'Rating_Count', data=ratings)"
   ]
  },
  {
   "cell_type": "markdown",
   "metadata": {},
   "source": [
    "### Observations\n",
    "\n",
    "This is a joint plot between Mean rating distribution and Rating Count grouped by all the Users. As shown in the plot, data is clustered between 3.5 to 5. There are many data points when the Rating count is less than 100 and the mean rating for the users is between 3.5 and 5"
   ]
  },
  {
   "cell_type": "markdown",
   "metadata": {},
   "source": [
    "<a id=\"a6\"></a>\n",
    "# Split the data into training and test set in the ratio of 70:30 respectively"
   ]
  },
  {
   "cell_type": "code",
   "execution_count": 26,
   "metadata": {},
   "outputs": [
    {
     "data": {
      "text/markdown": [
       "<span style='color:brown'>**Training and Testing Set Distribution**</span>"
      ],
      "text/plain": [
       "<IPython.core.display.Markdown object>"
      ]
     },
     "metadata": {},
     "output_type": "display_data"
    },
    {
     "name": "stdout",
     "output_type": "stream",
     "text": [
      "Training set has 88109 rows and 3 columns\n",
      "Testing set has 37762 rows and 3 columns\n"
     ]
    }
   ],
   "source": [
    "train_data, test_data = train_test_split(electronics, test_size =.30, random_state=10)\n",
    "printmd('**Training and Testing Set Distribution**', color='brown')\n",
    "\n",
    "print(f'Training set has {train_data.shape[0]} rows and {train_data.shape[1]} columns')\n",
    "print(f'Testing set has {test_data.shape[0]} rows and {test_data.shape[1]} columns')\n"
   ]
  },
  {
   "cell_type": "markdown",
   "metadata": {},
   "source": [
    "<a id=\"a7\"></a>\n",
    "# Recommender Systems"
   ]
  },
  {
   "cell_type": "markdown",
   "metadata": {},
   "source": [
    "A recommender system is a simple algorithm whose aim is to provide the most relevant information to a user by discovering patterns in a dataset. The algorithm rates the items and shows the user the items that they would rate highly."
   ]
  },
  {
   "cell_type": "markdown",
   "metadata": {},
   "source": [
    "<a id=\"a7a\"></a>\n",
    "## a. Popularity Based Recommender Model"
   ]
  },
  {
   "cell_type": "markdown",
   "metadata": {},
   "source": [
    "Popularity based recommendation system uses the items that are in trend right now. It ranks products based on its popularity i.e. the rating count. If a product is highly rated then it is most likely to be ranked higher and hence will be recommended. As it is based on the products popularity, this can not be personalized and hence same set of products will be recommended for all the users."
   ]
  },
  {
   "cell_type": "code",
   "execution_count": 27,
   "metadata": {},
   "outputs": [],
   "source": [
    "class popularity_based_recommender_model():\n",
    "    def __init__(self, train_data, test_data, user_id, item_id):\n",
    "        self.train_data = train_data\n",
    "        self.test_data = test_data\n",
    "        self.user_id = user_id\n",
    "        self.item_id = item_id\n",
    "        self.popularity_recommendations = None\n",
    "        \n",
    "    #Create the popularity based recommender system model\n",
    "    def fit(self):\n",
    "        #Get a count of user_ids for each unique product as recommendation score\n",
    "        train_data_grouped = train_data.groupby([self.item_id]).agg({self.user_id: 'count'}).reset_index()\n",
    "        train_data_grouped.rename(columns = {'userId': 'RateCount'},inplace=True)\n",
    "    \n",
    "        #Sort the products based upon recommendation score\n",
    "        train_data_sort = train_data_grouped.sort_values(['RateCount'], ascending = False)\n",
    "    \n",
    "        #Generate a recommendation rank based upon score\n",
    "        train_data_sort['Rank'] = train_data_sort['RateCount'].rank(ascending=0, method='first')\n",
    "        \n",
    "        #Get the top 10 recommendations\n",
    "        self.popularity_recommendations = train_data_sort.head(20)\n",
    "\n",
    "    #Use the popularity based recommender system model to make recommendations\n",
    "    def recommend(self, user_id, n=5):    \n",
    "        user_recommendations = self.popularity_recommendations\n",
    "        \n",
    "        #Filter products that are not rated by the user \n",
    "        #as we would be recommending the products that are not rated by the user\n",
    "        products_already_rated_by_user = self.train_data[self.train_data[self.user_id] == user_id][self.item_id]        \n",
    "        user_recommendations = user_recommendations[~user_recommendations[self.item_id].isin(products_already_rated_by_user)]\n",
    "        \n",
    "        return user_recommendations.head(5)\n",
    "    \n",
    "    def plot(self, user_recommendations):\n",
    "        # f, axes = plt.subplots(1, 2, figsize=(20, 8))\n",
    "        cplot = sns.barplot(x='Rank', y='RateCount', data=user_recommendations, hue='Rank') # ax=axes[0]\n",
    "        cplot.set_xlabel('Rank',fontsize=14)\n",
    "        cplot.set_ylabel('RateCount',fontsize=14)     \n",
    "        cplot.legend(loc='upper right', borderpad=0.3)\n",
    "        \n",
    "    def predict_evaluate(self):        \n",
    "        ratings = pd.DataFrame(self.train_data.groupby(self.item_id)['Rating'].mean())\n",
    "        \n",
    "        pred_ratings = [];            \n",
    "        for data in self.test_data.values:\n",
    "            if(data[1] in (ratings.index)):\n",
    "                pred_ratings.append(ratings.loc[data[1]])\n",
    "            else:\n",
    "                pred_ratings.append(0)\n",
    "        \n",
    "        mse = mean_squared_error(self.test_data['Rating'], pred_ratings)\n",
    "        rmse = sqrt(mse)\n",
    "        return rmse        "
   ]
  },
  {
   "cell_type": "markdown",
   "metadata": {},
   "source": [
    "<a id=\"a7a1\"></a>\n",
    "### Initialize"
   ]
  },
  {
   "cell_type": "code",
   "execution_count": 28,
   "metadata": {},
   "outputs": [],
   "source": [
    "pr = popularity_based_recommender_model(train_data=train_data, test_data=test_data, user_id='userId', item_id='productId')"
   ]
  },
  {
   "cell_type": "markdown",
   "metadata": {},
   "source": [
    "<a id=\"a7a2\"></a>\n",
    "### Fit"
   ]
  },
  {
   "cell_type": "code",
   "execution_count": 29,
   "metadata": {},
   "outputs": [],
   "source": [
    "pr.fit()"
   ]
  },
  {
   "cell_type": "markdown",
   "metadata": {},
   "source": [
    "<a id=\"a7a3\"></a>\n",
    "### Recommend"
   ]
  },
  {
   "cell_type": "markdown",
   "metadata": {},
   "source": [
    "**Trying with three different Users**"
   ]
  },
  {
   "cell_type": "code",
   "execution_count": 30,
   "metadata": {},
   "outputs": [
    {
     "data": {
      "text/html": [
       "<div>\n",
       "<style scoped>\n",
       "    .dataframe tbody tr th:only-of-type {\n",
       "        vertical-align: middle;\n",
       "    }\n",
       "\n",
       "    .dataframe tbody tr th {\n",
       "        vertical-align: top;\n",
       "    }\n",
       "\n",
       "    .dataframe thead th {\n",
       "        text-align: right;\n",
       "    }\n",
       "</style>\n",
       "<table border=\"1\" class=\"dataframe\">\n",
       "  <thead>\n",
       "    <tr style=\"text-align: right;\">\n",
       "      <th></th>\n",
       "      <th>productId</th>\n",
       "      <th>RateCount</th>\n",
       "      <th>Rank</th>\n",
       "    </tr>\n",
       "  </thead>\n",
       "  <tbody>\n",
       "    <tr>\n",
       "      <th>30874</th>\n",
       "      <td>B0088CJT4U</td>\n",
       "      <td>142</td>\n",
       "      <td>1.0</td>\n",
       "    </tr>\n",
       "    <tr>\n",
       "      <th>19570</th>\n",
       "      <td>B003ES5ZUU</td>\n",
       "      <td>134</td>\n",
       "      <td>2.0</td>\n",
       "    </tr>\n",
       "    <tr>\n",
       "      <th>30273</th>\n",
       "      <td>B007WTAJTO</td>\n",
       "      <td>126</td>\n",
       "      <td>3.0</td>\n",
       "    </tr>\n",
       "    <tr>\n",
       "      <th>30557</th>\n",
       "      <td>B00829THK0</td>\n",
       "      <td>103</td>\n",
       "      <td>6.0</td>\n",
       "    </tr>\n",
       "    <tr>\n",
       "      <th>17292</th>\n",
       "      <td>B002R5AM7C</td>\n",
       "      <td>97</td>\n",
       "      <td>8.0</td>\n",
       "    </tr>\n",
       "  </tbody>\n",
       "</table>\n",
       "</div>"
      ],
      "text/plain": [
       "        productId  RateCount  Rank\n",
       "30874  B0088CJT4U        142   1.0\n",
       "19570  B003ES5ZUU        134   2.0\n",
       "30273  B007WTAJTO        126   3.0\n",
       "30557  B00829THK0        103   6.0\n",
       "17292  B002R5AM7C         97   8.0"
      ]
     },
     "metadata": {},
     "output_type": "display_data"
    },
    {
     "data": {
      "image/png": "[encoded data removed]",
      "text/plain": [
       "<Figure size 640x480 with 1 Axes>"
      ]
     },
     "metadata": {},
     "output_type": "display_data"
    }
   ],
   "source": [
    "result_pop_user1 = pr.recommend('ANTN61S4L7WG9')\n",
    "display(result_pop_user1)\n",
    "pr.plot(result_pop_user1)"
   ]
  },
  {
   "cell_type": "code",
   "execution_count": 31,
   "metadata": {},
   "outputs": [
    {
     "data": {
      "text/html": [
       "<div>\n",
       "<style scoped>\n",
       "    .dataframe tbody tr th:only-of-type {\n",
       "        vertical-align: middle;\n",
       "    }\n",
       "\n",
       "    .dataframe tbody tr th {\n",
       "        vertical-align: top;\n",
       "    }\n",
       "\n",
       "    .dataframe thead th {\n",
       "        text-align: right;\n",
       "    }\n",
       "</style>\n",
       "<table border=\"1\" class=\"dataframe\">\n",
       "  <thead>\n",
       "    <tr style=\"text-align: right;\">\n",
       "      <th></th>\n",
       "      <th>productId</th>\n",
       "      <th>RateCount</th>\n",
       "      <th>Rank</th>\n",
       "    </tr>\n",
       "  </thead>\n",
       "  <tbody>\n",
       "    <tr>\n",
       "      <th>30874</th>\n",
       "      <td>B0088CJT4U</td>\n",
       "      <td>142</td>\n",
       "      <td>1.0</td>\n",
       "    </tr>\n",
       "    <tr>\n",
       "      <th>19570</th>\n",
       "      <td>B003ES5ZUU</td>\n",
       "      <td>134</td>\n",
       "      <td>2.0</td>\n",
       "    </tr>\n",
       "    <tr>\n",
       "      <th>30273</th>\n",
       "      <td>B007WTAJTO</td>\n",
       "      <td>126</td>\n",
       "      <td>3.0</td>\n",
       "    </tr>\n",
       "    <tr>\n",
       "      <th>8700</th>\n",
       "      <td>B000N99BBC</td>\n",
       "      <td>117</td>\n",
       "      <td>4.0</td>\n",
       "    </tr>\n",
       "    <tr>\n",
       "      <th>30561</th>\n",
       "      <td>B00829TIEK</td>\n",
       "      <td>104</td>\n",
       "      <td>5.0</td>\n",
       "    </tr>\n",
       "  </tbody>\n",
       "</table>\n",
       "</div>"
      ],
      "text/plain": [
       "        productId  RateCount  Rank\n",
       "30874  B0088CJT4U        142   1.0\n",
       "19570  B003ES5ZUU        134   2.0\n",
       "30273  B007WTAJTO        126   3.0\n",
       "8700   B000N99BBC        117   4.0\n",
       "30561  B00829TIEK        104   5.0"
      ]
     },
     "metadata": {},
     "output_type": "display_data"
    },
    {
     "data": {
      "image/png": "[encoded data removed]",
      "text/plain": [
       "<Figure size 640x480 with 1 Axes>"
      ]
     },
     "metadata": {},
     "output_type": "display_data"
    }
   ],
   "source": [
    "result_pop_user2 = pr.recommend('AYNAH993VDECT')\n",
    "display(result_pop_user2)\n",
    "pr.plot(result_pop_user2)"
   ]
  },
  {
   "cell_type": "code",
   "execution_count": 32,
   "metadata": {},
   "outputs": [
    {
     "data": {
      "text/html": [
       "<div>\n",
       "<style scoped>\n",
       "    .dataframe tbody tr th:only-of-type {\n",
       "        vertical-align: middle;\n",
       "    }\n",
       "\n",
       "    .dataframe tbody tr th {\n",
       "        vertical-align: top;\n",
       "    }\n",
       "\n",
       "    .dataframe thead th {\n",
       "        text-align: right;\n",
       "    }\n",
       "</style>\n",
       "<table border=\"1\" class=\"dataframe\">\n",
       "  <thead>\n",
       "    <tr style=\"text-align: right;\">\n",
       "      <th></th>\n",
       "      <th>productId</th>\n",
       "      <th>RateCount</th>\n",
       "      <th>Rank</th>\n",
       "    </tr>\n",
       "  </thead>\n",
       "  <tbody>\n",
       "    <tr>\n",
       "      <th>30874</th>\n",
       "      <td>B0088CJT4U</td>\n",
       "      <td>142</td>\n",
       "      <td>1.0</td>\n",
       "    </tr>\n",
       "    <tr>\n",
       "      <th>19570</th>\n",
       "      <td>B003ES5ZUU</td>\n",
       "      <td>134</td>\n",
       "      <td>2.0</td>\n",
       "    </tr>\n",
       "    <tr>\n",
       "      <th>30273</th>\n",
       "      <td>B007WTAJTO</td>\n",
       "      <td>126</td>\n",
       "      <td>3.0</td>\n",
       "    </tr>\n",
       "    <tr>\n",
       "      <th>8700</th>\n",
       "      <td>B000N99BBC</td>\n",
       "      <td>117</td>\n",
       "      <td>4.0</td>\n",
       "    </tr>\n",
       "    <tr>\n",
       "      <th>30561</th>\n",
       "      <td>B00829TIEK</td>\n",
       "      <td>104</td>\n",
       "      <td>5.0</td>\n",
       "    </tr>\n",
       "  </tbody>\n",
       "</table>\n",
       "</div>"
      ],
      "text/plain": [
       "        productId  RateCount  Rank\n",
       "30874  B0088CJT4U        142   1.0\n",
       "19570  B003ES5ZUU        134   2.0\n",
       "30273  B007WTAJTO        126   3.0\n",
       "8700   B000N99BBC        117   4.0\n",
       "30561  B00829TIEK        104   5.0"
      ]
     },
     "metadata": {},
     "output_type": "display_data"
    },
    {
     "data": {
      "image/png": "[encoded data removed]",
      "text/plain": [
       "<Figure size 640x480 with 1 Axes>"
      ]
     },
     "metadata": {},
     "output_type": "display_data"
    }
   ],
   "source": [
    "result_pop_user3 = pr.recommend('A18YMFFJW974QS')\n",
    "display(result_pop_user3)\n",
    "pr.plot(result_pop_user3)"
   ]
  },
  {
   "cell_type": "code",
   "execution_count": 33,
   "metadata": {},
   "outputs": [
    {
     "data": {
      "text/html": [
       "<table style=\"display:inline;margin-left:50px !important;margin-right: 40px !important\" border=\"1\" class=\"dataframe\">\n",
       "  <thead>\n",
       "    <tr style=\"text-align: right;\">\n",
       "      <th></th>\n",
       "      <th>productId</th>\n",
       "      <th>RateCount</th>\n",
       "      <th>Rank</th>\n",
       "    </tr>\n",
       "  </thead>\n",
       "  <tbody>\n",
       "    <tr>\n",
       "      <th>30874</th>\n",
       "      <td>B0088CJT4U</td>\n",
       "      <td>142</td>\n",
       "      <td>1.0</td>\n",
       "    </tr>\n",
       "    <tr>\n",
       "      <th>19570</th>\n",
       "      <td>B003ES5ZUU</td>\n",
       "      <td>134</td>\n",
       "      <td>2.0</td>\n",
       "    </tr>\n",
       "    <tr>\n",
       "      <th>30273</th>\n",
       "      <td>B007WTAJTO</td>\n",
       "      <td>126</td>\n",
       "      <td>3.0</td>\n",
       "    </tr>\n",
       "    <tr>\n",
       "      <th>30557</th>\n",
       "      <td>B00829THK0</td>\n",
       "      <td>103</td>\n",
       "      <td>6.0</td>\n",
       "    </tr>\n",
       "    <tr>\n",
       "      <th>17292</th>\n",
       "      <td>B002R5AM7C</td>\n",
       "      <td>97</td>\n",
       "      <td>8.0</td>\n",
       "    </tr>\n",
       "  </tbody>\n",
       "</table style=\"display:inline;margin-left:50px !important;margin-right: 40px !important\"><table style=\"display:inline;margin-left:50px !important;margin-right: 40px !important\" border=\"1\" class=\"dataframe\">\n",
       "  <thead>\n",
       "    <tr style=\"text-align: right;\">\n",
       "      <th></th>\n",
       "      <th>productId</th>\n",
       "      <th>RateCount</th>\n",
       "      <th>Rank</th>\n",
       "    </tr>\n",
       "  </thead>\n",
       "  <tbody>\n",
       "    <tr>\n",
       "      <th>30874</th>\n",
       "      <td>B0088CJT4U</td>\n",
       "      <td>142</td>\n",
       "      <td>1.0</td>\n",
       "    </tr>\n",
       "    <tr>\n",
       "      <th>19570</th>\n",
       "      <td>B003ES5ZUU</td>\n",
       "      <td>134</td>\n",
       "      <td>2.0</td>\n",
       "    </tr>\n",
       "    <tr>\n",
       "      <th>30273</th>\n",
       "      <td>B007WTAJTO</td>\n",
       "      <td>126</td>\n",
       "      <td>3.0</td>\n",
       "    </tr>\n",
       "    <tr>\n",
       "      <th>8700</th>\n",
       "      <td>B000N99BBC</td>\n",
       "      <td>117</td>\n",
       "      <td>4.0</td>\n",
       "    </tr>\n",
       "    <tr>\n",
       "      <th>30561</th>\n",
       "      <td>B00829TIEK</td>\n",
       "      <td>104</td>\n",
       "      <td>5.0</td>\n",
       "    </tr>\n",
       "  </tbody>\n",
       "</table style=\"display:inline;margin-left:50px !important;margin-right: 40px !important\"><table style=\"display:inline;margin-left:50px !important;margin-right: 40px !important\" border=\"1\" class=\"dataframe\">\n",
       "  <thead>\n",
       "    <tr style=\"text-align: right;\">\n",
       "      <th></th>\n",
       "      <th>productId</th>\n",
       "      <th>RateCount</th>\n",
       "      <th>Rank</th>\n",
       "    </tr>\n",
       "  </thead>\n",
       "  <tbody>\n",
       "    <tr>\n",
       "      <th>30874</th>\n",
       "      <td>B0088CJT4U</td>\n",
       "      <td>142</td>\n",
       "      <td>1.0</td>\n",
       "    </tr>\n",
       "    <tr>\n",
       "      <th>19570</th>\n",
       "      <td>B003ES5ZUU</td>\n",
       "      <td>134</td>\n",
       "      <td>2.0</td>\n",
       "    </tr>\n",
       "    <tr>\n",
       "      <th>30273</th>\n",
       "      <td>B007WTAJTO</td>\n",
       "      <td>126</td>\n",
       "      <td>3.0</td>\n",
       "    </tr>\n",
       "    <tr>\n",
       "      <th>8700</th>\n",
       "      <td>B000N99BBC</td>\n",
       "      <td>117</td>\n",
       "      <td>4.0</td>\n",
       "    </tr>\n",
       "    <tr>\n",
       "      <th>30561</th>\n",
       "      <td>B00829TIEK</td>\n",
       "      <td>104</td>\n",
       "      <td>5.0</td>\n",
       "    </tr>\n",
       "  </tbody>\n",
       "</table style=\"display:inline;margin-left:50px !important;margin-right: 40px !important\">"
      ]
     },
     "metadata": {},
     "output_type": "display_data"
    }
   ],
   "source": [
    "display_side_by_side([result_pop_user1, result_pop_user2, result_pop_user3])"
   ]
  },
  {
   "cell_type": "markdown",
   "metadata": {},
   "source": [
    "### Observations\n",
    "\n",
    "Since this is a popularity based recommender model, we are getting similar a result for all three users i.e. **the model is recommending almost same products to all the users**."
   ]
  },
  {
   "cell_type": "markdown",
   "metadata": {},
   "source": [
    "<a id=\"a7b\"></a>\n",
    "## b. Collaborative Filtering Recommender Model using SURPRISE Library"
   ]
  },
  {
   "cell_type": "markdown",
   "metadata": {},
   "source": [
    "Collaborative filtering is a method of making predictions about the interests of user by analysing the taste of users which are similar to the said user. The idea of filtering patterns by collaborating multiple viewpoints is why it is called collaborative filtering."
   ]
  },
  {
   "cell_type": "markdown",
   "metadata": {},
   "source": [
    "<a id=\"a7b1\"></a>\n",
    "### Load Surprise Data from DataFrame"
   ]
  },
  {
   "cell_type": "code",
   "execution_count": 34,
   "metadata": {},
   "outputs": [],
   "source": [
    "from surprise import accuracy\n",
    "from surprise.model_selection.validation import cross_validate\n",
    "from surprise.dataset import Dataset\n",
    "from surprise.reader import Reader\n",
    "from surprise import SVD, KNNBasic, KNNWithMeans\n",
    "\n",
    "reader = Reader(rating_scale=(1, 5))\n",
    "surprise_data = Dataset.load_from_df(electronics, reader)"
   ]
  },
  {
   "cell_type": "markdown",
   "metadata": {},
   "source": [
    "<a id=\"a7b2\"></a>\n",
    "### Split the data into training and test set in the ratio of 70:30 respectively"
   ]
  },
  {
   "cell_type": "code",
   "execution_count": 35,
   "metadata": {},
   "outputs": [],
   "source": [
    "from surprise.model_selection import train_test_split\n",
    "trainset, testset = train_test_split(surprise_data, test_size=.3, random_state=10)"
   ]
  },
  {
   "cell_type": "code",
   "execution_count": 36,
   "metadata": {},
   "outputs": [],
   "source": [
    "from collections import defaultdict\n",
    "\n",
    "def get_top_n(predictions, n=10):\n",
    "    # First map the predictions to each user.\n",
    "    top_n = defaultdict(list)\n",
    "    for uid, iid, true_r, est, _ in predictions:\n",
    "        top_n[uid].append((iid, est))\n",
    "\n",
    "    # Then sort the predictions for each user and retrieve the k highest ones.\n",
    "    for uid, user_ratings in top_n.items():\n",
    "        user_ratings.sort(key=lambda x: x[1], reverse=True)\n",
    "        top_n[uid] = user_ratings[:n]\n",
    "\n",
    "    return top_n"
   ]
  },
  {
   "cell_type": "code",
   "execution_count": 37,
   "metadata": {},
   "outputs": [],
   "source": [
    "class collab_filtering_based_recommender_model():\n",
    "    def __init__(self, model, trainset, testset, data):\n",
    "        self.model = model\n",
    "        self.trainset = trainset\n",
    "        self.testset = testset\n",
    "        self.data = data\n",
    "        self.pred_test = None\n",
    "        self.recommendations = None\n",
    "        self.top_n = None\n",
    "        self.recommenddf = None\n",
    "\n",
    "    def fit_and_predict(self):        \n",
    "        printmd('**Fitting the train data...**', color='brown')\n",
    "        self.model.fit(self.trainset)       \n",
    "\n",
    "        printmd('**Predicting the test data...**', color='brown')\n",
    "        self.pred_test = self.model.test(self.testset)        \n",
    "        rmse = round(accuracy.rmse(self.pred_test), 3)\n",
    "        printmd('**RMSE for the predicted result is ' + str(rmse) + '**', color='brown')   \n",
    "        \n",
    "        self.top_n = get_top_n(self.pred_test)\n",
    "        self.recommenddf = pd.DataFrame(columns=['userId', 'productId', 'Rating'])\n",
    "        for item in self.top_n:\n",
    "            subdf = pd.DataFrame(self.top_n[item], columns=['productId', 'Rating'])\n",
    "            subdf['userId'] = item\n",
    "            cols = subdf.columns.tolist()\n",
    "            cols = cols[-1:] + cols[:-1]\n",
    "            subdf = subdf[cols]        \n",
    "            self.recommenddf = pd.concat([self.recommenddf, subdf], axis = 0)        \n",
    "        return rmse\n",
    "        \n",
    "    def cross_validate(self):\n",
    "        printmd('**Cross Validating the data...**', color='brown')\n",
    "        cv_result = cross_validate(self.model, self.data, n_jobs=-1)\n",
    "        cv_result = round(cv_result['test_rmse'].mean(),3)\n",
    "        printmd('**Mean CV RMSE is ' + str(cv_result)  + '**', color='brown')\n",
    "        return cv_result\n",
    "\n",
    "    def recommend(self, user_id, n=5):\n",
    "        printmd('**Recommending top ' + str(n)+ ' products for userid : ' + user_id + ' ...**', color='brown')\n",
    "        \n",
    "        #df = pd.DataFrame(self.top_n[user_id], columns=['productId', 'Rating'])\n",
    "        #df['UserId'] = user_id\n",
    "        #cols = df.columns.tolist()\n",
    "        #cols = cols[-1:] + cols[:-1]\n",
    "        #df = df[cols].head(n)\n",
    "        df = self.recommenddf[self.recommenddf['userId'] == user_id].head(n)\n",
    "        display(df)\n",
    "        return df        "
   ]
  },
  {
   "cell_type": "code",
   "execution_count": 38,
   "metadata": {},
   "outputs": [],
   "source": [
    "from surprise.model_selection import RandomizedSearchCV, GridSearchCV\n",
    "\n",
    "def find_best_model(model, parameters,data):\n",
    "    clf = GridSearchCV(model, parameters, n_jobs=-1, measures=['rmse'])\n",
    "    clf.fit(data)             \n",
    "    print(clf.best_score)\n",
    "    print(clf.best_params)\n",
    "    print(clf.best_estimator)\n",
    "    return clf"
   ]
  },
  {
   "cell_type": "markdown",
   "metadata": {},
   "source": [
    "<a id=\"a7b3\"></a>\n",
    "### KNN With Means - Memory Based Collaborative Filtering"
   ]
  },
  {
   "cell_type": "markdown",
   "metadata": {},
   "source": [
    "**User-User Collaborative Filtering**\n",
    "\n",
    "To find the rating R that a user U would give to an item I, the approach includes:\n",
    "\n",
    "1. Finding users similar to U who have rated the item I<br>\n",
    "2. Calculating the rating R based the ratings of users found in the previous step\n",
    "\n",
    "Here we are using KNN with means to remove the bias by taking into account the mean ratings of each user."
   ]
  },
  {
   "cell_type": "markdown",
   "metadata": {},
   "source": [
    "<a id=\"a7b3a\"></a>\n",
    "#### Find optimal model using RandomizedSearchCV"
   ]
  },
  {
   "cell_type": "code",
   "execution_count": 32,
   "metadata": {},
   "outputs": [
    {
     "name": "stdout",
     "output_type": "stream",
     "text": [
      "{'rmse': 1.0366278315417847}\n",
      "{'rmse': {'k': 40, 'sim_options': {'name': 'pearson', 'min_support': 5, 'user_based': True}}}\n",
      "{'rmse': <surprise.prediction_algorithms.knns.KNNWithMeans object at 0x00000297A329B610>}\n"
     ]
    }
   ],
   "source": [
    "sim_options = {\n",
    "    \"name\": [\"msd\", \"cosine\", \"pearson\", \"pearson_baseline\"],\n",
    "    \"min_support\": [3, 4, 5],\n",
    "    \"user_based\": [True],\n",
    "}\n",
    "params = { 'k': [30, 40, 50], 'sim_options': sim_options}  # 'k': range(30,50,1)\n",
    "clf = find_best_model(KNNWithMeans, params, surprise_data)"
   ]
  },
  {
   "cell_type": "markdown",
   "metadata": {},
   "source": [
    "<a id=\"a7b3b\"></a>\n",
    "#### Initialize"
   ]
  },
  {
   "cell_type": "code",
   "execution_count": 33,
   "metadata": {},
   "outputs": [],
   "source": [
    "knnwithmeans = clf.best_estimator['rmse']\n",
    "col_fil_knnwithmeans = collab_filtering_based_recommender_model(knnwithmeans, trainset, testset, surprise_data)"
   ]
  },
  {
   "cell_type": "markdown",
   "metadata": {},
   "source": [
    "<a id=\"a7b3c\"></a>\n",
    "#### Fit and Predict"
   ]
  },
  {
   "cell_type": "code",
   "execution_count": 34,
   "metadata": {},
   "outputs": [
    {
     "data": {
      "text/markdown": [
       "<span style='color:brown'>**Fitting the train data...**</span>"
      ],
      "text/plain": [
       "<IPython.core.display.Markdown object>"
      ]
     },
     "metadata": {},
     "output_type": "display_data"
    },
    {
     "name": "stdout",
     "output_type": "stream",
     "text": [
      "Computing the pearson similarity matrix...\n",
      "Done computing similarity matrix.\n"
     ]
    },
    {
     "data": {
      "text/markdown": [
       "<span style='color:brown'>**Predicting the test data...**</span>"
      ],
      "text/plain": [
       "<IPython.core.display.Markdown object>"
      ]
     },
     "metadata": {},
     "output_type": "display_data"
    },
    {
     "name": "stdout",
     "output_type": "stream",
     "text": [
      "RMSE: 1.0417\n"
     ]
    },
    {
     "data": {
      "text/markdown": [
       "<span style='color:brown'>**RMSE for the predicted result is 1.042**</span>"
      ],
      "text/plain": [
       "<IPython.core.display.Markdown object>"
      ]
     },
     "metadata": {},
     "output_type": "display_data"
    }
   ],
   "source": [
    "knnwithmeans_rmse = col_fil_knnwithmeans.fit_and_predict()"
   ]
  },
  {
   "cell_type": "markdown",
   "metadata": {},
   "source": [
    "<a id=\"a7b3d\"></a>\n",
    "#### Cross Validate"
   ]
  },
  {
   "cell_type": "code",
   "execution_count": 35,
   "metadata": {},
   "outputs": [
    {
     "data": {
      "text/markdown": [
       "<span style='color:brown'>**Cross Validating the data...**</span>"
      ],
      "text/plain": [
       "<IPython.core.display.Markdown object>"
      ]
     },
     "metadata": {},
     "output_type": "display_data"
    },
    {
     "data": {
      "text/markdown": [
       "<span style='color:brown'>**Mean CV RMSE is 1.035**</span>"
      ],
      "text/plain": [
       "<IPython.core.display.Markdown object>"
      ]
     },
     "metadata": {},
     "output_type": "display_data"
    }
   ],
   "source": [
    "knnwithmeans_cv_rmse = col_fil_knnwithmeans.cross_validate()"
   ]
  },
  {
   "cell_type": "markdown",
   "metadata": {},
   "source": [
    "<a id=\"a7b3e\"></a>\n",
    "#### Recommend"
   ]
  },
  {
   "cell_type": "code",
   "execution_count": 36,
   "metadata": {},
   "outputs": [
    {
     "data": {
      "text/markdown": [
       "<span style='color:brown'>**Recommending top 5 products for userid : ANTN61S4L7WG9 ...**</span>"
      ],
      "text/plain": [
       "<IPython.core.display.Markdown object>"
      ]
     },
     "metadata": {},
     "output_type": "display_data"
    },
    {
     "data": {
      "text/html": [
       "<div>\n",
       "<style scoped>\n",
       "    .dataframe tbody tr th:only-of-type {\n",
       "        vertical-align: middle;\n",
       "    }\n",
       "\n",
       "    .dataframe tbody tr th {\n",
       "        vertical-align: top;\n",
       "    }\n",
       "\n",
       "    .dataframe thead th {\n",
       "        text-align: right;\n",
       "    }\n",
       "</style>\n",
       "<table border=\"1\" class=\"dataframe\">\n",
       "  <thead>\n",
       "    <tr style=\"text-align: right;\">\n",
       "      <th></th>\n",
       "      <th>userId</th>\n",
       "      <th>productId</th>\n",
       "      <th>Rating</th>\n",
       "    </tr>\n",
       "  </thead>\n",
       "  <tbody>\n",
       "    <tr>\n",
       "      <th>0</th>\n",
       "      <td>ANTN61S4L7WG9</td>\n",
       "      <td>B009Z7KMUM</td>\n",
       "      <td>5.000000</td>\n",
       "    </tr>\n",
       "    <tr>\n",
       "      <th>1</th>\n",
       "      <td>ANTN61S4L7WG9</td>\n",
       "      <td>B004CLYEDC</td>\n",
       "      <td>5.000000</td>\n",
       "    </tr>\n",
       "    <tr>\n",
       "      <th>2</th>\n",
       "      <td>ANTN61S4L7WG9</td>\n",
       "      <td>B0099SMFVQ</td>\n",
       "      <td>4.750906</td>\n",
       "    </tr>\n",
       "    <tr>\n",
       "      <th>3</th>\n",
       "      <td>ANTN61S4L7WG9</td>\n",
       "      <td>B00FRMAOIO</td>\n",
       "      <td>4.629167</td>\n",
       "    </tr>\n",
       "    <tr>\n",
       "      <th>4</th>\n",
       "      <td>ANTN61S4L7WG9</td>\n",
       "      <td>B0097CXWUW</td>\n",
       "      <td>4.502918</td>\n",
       "    </tr>\n",
       "  </tbody>\n",
       "</table>\n",
       "</div>"
      ],
      "text/plain": [
       "          userId   productId    Rating\n",
       "0  ANTN61S4L7WG9  B009Z7KMUM  5.000000\n",
       "1  ANTN61S4L7WG9  B004CLYEDC  5.000000\n",
       "2  ANTN61S4L7WG9  B0099SMFVQ  4.750906\n",
       "3  ANTN61S4L7WG9  B00FRMAOIO  4.629167\n",
       "4  ANTN61S4L7WG9  B0097CXWUW  4.502918"
      ]
     },
     "metadata": {},
     "output_type": "display_data"
    },
    {
     "data": {
      "text/markdown": [
       "<span style='color:brown'>**Recommending top 5 products for userid : AYNAH993VDECT ...**</span>"
      ],
      "text/plain": [
       "<IPython.core.display.Markdown object>"
      ]
     },
     "metadata": {},
     "output_type": "display_data"
    },
    {
     "data": {
      "text/html": [
       "<div>\n",
       "<style scoped>\n",
       "    .dataframe tbody tr th:only-of-type {\n",
       "        vertical-align: middle;\n",
       "    }\n",
       "\n",
       "    .dataframe tbody tr th {\n",
       "        vertical-align: top;\n",
       "    }\n",
       "\n",
       "    .dataframe thead th {\n",
       "        text-align: right;\n",
       "    }\n",
       "</style>\n",
       "<table border=\"1\" class=\"dataframe\">\n",
       "  <thead>\n",
       "    <tr style=\"text-align: right;\">\n",
       "      <th></th>\n",
       "      <th>userId</th>\n",
       "      <th>productId</th>\n",
       "      <th>Rating</th>\n",
       "    </tr>\n",
       "  </thead>\n",
       "  <tbody>\n",
       "    <tr>\n",
       "      <th>0</th>\n",
       "      <td>AYNAH993VDECT</td>\n",
       "      <td>B00CPIF4G0</td>\n",
       "      <td>4.265306</td>\n",
       "    </tr>\n",
       "    <tr>\n",
       "      <th>1</th>\n",
       "      <td>AYNAH993VDECT</td>\n",
       "      <td>B002FU6KF2</td>\n",
       "      <td>4.265306</td>\n",
       "    </tr>\n",
       "    <tr>\n",
       "      <th>2</th>\n",
       "      <td>AYNAH993VDECT</td>\n",
       "      <td>B005NHTG6O</td>\n",
       "      <td>4.265306</td>\n",
       "    </tr>\n",
       "    <tr>\n",
       "      <th>3</th>\n",
       "      <td>AYNAH993VDECT</td>\n",
       "      <td>B005G0CUP2</td>\n",
       "      <td>4.265306</td>\n",
       "    </tr>\n",
       "    <tr>\n",
       "      <th>4</th>\n",
       "      <td>AYNAH993VDECT</td>\n",
       "      <td>B0038KN114</td>\n",
       "      <td>4.265306</td>\n",
       "    </tr>\n",
       "  </tbody>\n",
       "</table>\n",
       "</div>"
      ],
      "text/plain": [
       "          userId   productId    Rating\n",
       "0  AYNAH993VDECT  B00CPIF4G0  4.265306\n",
       "1  AYNAH993VDECT  B002FU6KF2  4.265306\n",
       "2  AYNAH993VDECT  B005NHTG6O  4.265306\n",
       "3  AYNAH993VDECT  B005G0CUP2  4.265306\n",
       "4  AYNAH993VDECT  B0038KN114  4.265306"
      ]
     },
     "metadata": {},
     "output_type": "display_data"
    },
    {
     "data": {
      "text/markdown": [
       "<span style='color:brown'>**Recommending top 5 products for userid : A18YMFFJW974QS ...**</span>"
      ],
      "text/plain": [
       "<IPython.core.display.Markdown object>"
      ]
     },
     "metadata": {},
     "output_type": "display_data"
    },
    {
     "data": {
      "text/html": [
       "<div>\n",
       "<style scoped>\n",
       "    .dataframe tbody tr th:only-of-type {\n",
       "        vertical-align: middle;\n",
       "    }\n",
       "\n",
       "    .dataframe tbody tr th {\n",
       "        vertical-align: top;\n",
       "    }\n",
       "\n",
       "    .dataframe thead th {\n",
       "        text-align: right;\n",
       "    }\n",
       "</style>\n",
       "<table border=\"1\" class=\"dataframe\">\n",
       "  <thead>\n",
       "    <tr style=\"text-align: right;\">\n",
       "      <th></th>\n",
       "      <th>userId</th>\n",
       "      <th>productId</th>\n",
       "      <th>Rating</th>\n",
       "    </tr>\n",
       "  </thead>\n",
       "  <tbody>\n",
       "    <tr>\n",
       "      <th>0</th>\n",
       "      <td>A18YMFFJW974QS</td>\n",
       "      <td>B001PA94TW</td>\n",
       "      <td>4.261789</td>\n",
       "    </tr>\n",
       "    <tr>\n",
       "      <th>1</th>\n",
       "      <td>A18YMFFJW974QS</td>\n",
       "      <td>B001NZUFN8</td>\n",
       "      <td>4.261789</td>\n",
       "    </tr>\n",
       "    <tr>\n",
       "      <th>2</th>\n",
       "      <td>A18YMFFJW974QS</td>\n",
       "      <td>B0007WWI2O</td>\n",
       "      <td>4.261789</td>\n",
       "    </tr>\n",
       "    <tr>\n",
       "      <th>3</th>\n",
       "      <td>A18YMFFJW974QS</td>\n",
       "      <td>B003QP41EC</td>\n",
       "      <td>4.261789</td>\n",
       "    </tr>\n",
       "    <tr>\n",
       "      <th>4</th>\n",
       "      <td>A18YMFFJW974QS</td>\n",
       "      <td>B002RM08RE</td>\n",
       "      <td>4.156250</td>\n",
       "    </tr>\n",
       "  </tbody>\n",
       "</table>\n",
       "</div>"
      ],
      "text/plain": [
       "           userId   productId    Rating\n",
       "0  A18YMFFJW974QS  B001PA94TW  4.261789\n",
       "1  A18YMFFJW974QS  B001NZUFN8  4.261789\n",
       "2  A18YMFFJW974QS  B0007WWI2O  4.261789\n",
       "3  A18YMFFJW974QS  B003QP41EC  4.261789\n",
       "4  A18YMFFJW974QS  B002RM08RE  4.156250"
      ]
     },
     "metadata": {},
     "output_type": "display_data"
    }
   ],
   "source": [
    "result_knn_user1 = col_fil_knnwithmeans.recommend(user_id='ANTN61S4L7WG9', n=5)\n",
    "result_knn_user2 = col_fil_knnwithmeans.recommend(user_id='AYNAH993VDECT', n=5)\n",
    "result_knn_user3 = col_fil_knnwithmeans.recommend(user_id='A18YMFFJW974QS', n=5)"
   ]
  },
  {
   "cell_type": "markdown",
   "metadata": {},
   "source": [
    "<a id=\"a7b3f\"></a>\n",
    "#### Observations\n",
    "\n",
    "**KNN (K-Nearest Neighbours) With Means** model has an test RMSE value of **1.04** and cross validation RMSE value of **1.037**. \n",
    "\n",
    "AS for the recommendations, **each user will have different products recommended to them** as they are infered based on the ratings provided by the similar users. To find the similar users, KNN model uses **cosine similarity or Pearson's correlation** to find the nerghbours. "
   ]
  },
  {
   "cell_type": "markdown",
   "metadata": {},
   "source": [
    "<a id=\"a7b4\"></a>\n",
    "### SVD - Model Based Collaborative Filtering"
   ]
  },
  {
   "cell_type": "markdown",
   "metadata": {},
   "source": [
    "The **Singular-Value Decomposition, or SVD** for short, is a matrix decomposition method for reducing a matrix to its constituent parts in order to make certain subsequent matrix calculations simpler. It provides another way to factorize a matrix, into singular vectors and singular values.\n",
    "\n",
    "$A = U . Sigma . V^T$"
   ]
  },
  {
   "cell_type": "markdown",
   "metadata": {},
   "source": [
    "<a id=\"a7b4a\"></a>\n",
    "#### Find optimal model using RandomizedSearchCV"
   ]
  },
  {
   "cell_type": "code",
   "execution_count": 40,
   "metadata": {},
   "outputs": [
    {
     "name": "stdout",
     "output_type": "stream",
     "text": [
      "{'rmse': 0.9812074198876817}\n",
      "{'rmse': {'n_epochs': 20, 'lr_all': 0.005, 'reg_all': 0.4}}\n",
      "{'rmse': <surprise.prediction_algorithms.matrix_factorization.SVD object at 0x00000297A522B4D0>}\n"
     ]
    }
   ],
   "source": [
    "params= {\n",
    "    \"n_epochs\": [5, 10, 15, 20],\n",
    "    \"lr_all\": [0.002, 0.005],\n",
    "    \"reg_all\": [0.4, 0.6]\n",
    "}\n",
    "clf = find_best_model(SVD, params, surprise_data)"
   ]
  },
  {
   "cell_type": "markdown",
   "metadata": {},
   "source": [
    "<a id=\"a7b4b\"></a>\n",
    "#### Initialize"
   ]
  },
  {
   "cell_type": "code",
   "execution_count": 41,
   "metadata": {},
   "outputs": [],
   "source": [
    "svd = clf.best_estimator['rmse']\n",
    "col_fil_svd = collab_filtering_based_recommender_model(svd, trainset, testset, surprise_data)"
   ]
  },
  {
   "cell_type": "markdown",
   "metadata": {},
   "source": [
    "<a id=\"a7b4c\"></a>\n",
    "#### Fit and Predict"
   ]
  },
  {
   "cell_type": "code",
   "execution_count": 42,
   "metadata": {},
   "outputs": [
    {
     "data": {
      "text/markdown": [
       "<span style='color:brown'>**Fitting the train data...**</span>"
      ],
      "text/plain": [
       "<IPython.core.display.Markdown object>"
      ]
     },
     "metadata": {},
     "output_type": "display_data"
    },
    {
     "data": {
      "text/markdown": [
       "<span style='color:brown'>**Predicting the test data...**</span>"
      ],
      "text/plain": [
       "<IPython.core.display.Markdown object>"
      ]
     },
     "metadata": {},
     "output_type": "display_data"
    },
    {
     "name": "stdout",
     "output_type": "stream",
     "text": [
      "RMSE: 0.9903\n"
     ]
    },
    {
     "data": {
      "text/markdown": [
       "<span style='color:brown'>**RMSE for the predicted result is 0.99**</span>"
      ],
      "text/plain": [
       "<IPython.core.display.Markdown object>"
      ]
     },
     "metadata": {},
     "output_type": "display_data"
    }
   ],
   "source": [
    "svd_rmse = col_fil_svd.fit_and_predict()"
   ]
  },
  {
   "cell_type": "markdown",
   "metadata": {},
   "source": [
    "<a id=\"a7b4d\"></a>\n",
    "#### Cross Validate"
   ]
  },
  {
   "cell_type": "code",
   "execution_count": 43,
   "metadata": {},
   "outputs": [
    {
     "data": {
      "text/markdown": [
       "<span style='color:brown'>**Cross Validating the data...**</span>"
      ],
      "text/plain": [
       "<IPython.core.display.Markdown object>"
      ]
     },
     "metadata": {},
     "output_type": "display_data"
    },
    {
     "data": {
      "text/markdown": [
       "<span style='color:brown'>**Mean CV RMSE is 0.981**</span>"
      ],
      "text/plain": [
       "<IPython.core.display.Markdown object>"
      ]
     },
     "metadata": {},
     "output_type": "display_data"
    }
   ],
   "source": [
    "svd_cv_rmse = col_fil_svd.cross_validate()"
   ]
  },
  {
   "cell_type": "markdown",
   "metadata": {},
   "source": [
    "<a id=\"a7b4e\"></a>\n",
    "#### Recommend"
   ]
  },
  {
   "cell_type": "code",
   "execution_count": 44,
   "metadata": {},
   "outputs": [
    {
     "data": {
      "text/markdown": [
       "<span style='color:brown'>**Recommending top 5 products for userid : ANTN61S4L7WG9 ...**</span>"
      ],
      "text/plain": [
       "<IPython.core.display.Markdown object>"
      ]
     },
     "metadata": {},
     "output_type": "display_data"
    },
    {
     "data": {
      "text/html": [
       "<div>\n",
       "<style scoped>\n",
       "    .dataframe tbody tr th:only-of-type {\n",
       "        vertical-align: middle;\n",
       "    }\n",
       "\n",
       "    .dataframe tbody tr th {\n",
       "        vertical-align: top;\n",
       "    }\n",
       "\n",
       "    .dataframe thead th {\n",
       "        text-align: right;\n",
       "    }\n",
       "</style>\n",
       "<table border=\"1\" class=\"dataframe\">\n",
       "  <thead>\n",
       "    <tr style=\"text-align: right;\">\n",
       "      <th></th>\n",
       "      <th>userId</th>\n",
       "      <th>productId</th>\n",
       "      <th>Rating</th>\n",
       "    </tr>\n",
       "  </thead>\n",
       "  <tbody>\n",
       "    <tr>\n",
       "      <th>0</th>\n",
       "      <td>ANTN61S4L7WG9</td>\n",
       "      <td>B0099SMFVQ</td>\n",
       "      <td>4.635812</td>\n",
       "    </tr>\n",
       "    <tr>\n",
       "      <th>1</th>\n",
       "      <td>ANTN61S4L7WG9</td>\n",
       "      <td>B004CLYEDC</td>\n",
       "      <td>4.550270</td>\n",
       "    </tr>\n",
       "    <tr>\n",
       "      <th>2</th>\n",
       "      <td>ANTN61S4L7WG9</td>\n",
       "      <td>B00HVT27B8</td>\n",
       "      <td>4.537729</td>\n",
       "    </tr>\n",
       "    <tr>\n",
       "      <th>3</th>\n",
       "      <td>ANTN61S4L7WG9</td>\n",
       "      <td>B00HHRP11C</td>\n",
       "      <td>4.532709</td>\n",
       "    </tr>\n",
       "    <tr>\n",
       "      <th>4</th>\n",
       "      <td>ANTN61S4L7WG9</td>\n",
       "      <td>B00E87E1OM</td>\n",
       "      <td>4.420190</td>\n",
       "    </tr>\n",
       "  </tbody>\n",
       "</table>\n",
       "</div>"
      ],
      "text/plain": [
       "          userId   productId    Rating\n",
       "0  ANTN61S4L7WG9  B0099SMFVQ  4.635812\n",
       "1  ANTN61S4L7WG9  B004CLYEDC  4.550270\n",
       "2  ANTN61S4L7WG9  B00HVT27B8  4.537729\n",
       "3  ANTN61S4L7WG9  B00HHRP11C  4.532709\n",
       "4  ANTN61S4L7WG9  B00E87E1OM  4.420190"
      ]
     },
     "metadata": {},
     "output_type": "display_data"
    },
    {
     "data": {
      "text/markdown": [
       "<span style='color:brown'>**Recommending top 5 products for userid : AYNAH993VDECT ...**</span>"
      ],
      "text/plain": [
       "<IPython.core.display.Markdown object>"
      ]
     },
     "metadata": {},
     "output_type": "display_data"
    },
    {
     "data": {
      "text/html": [
       "<div>\n",
       "<style scoped>\n",
       "    .dataframe tbody tr th:only-of-type {\n",
       "        vertical-align: middle;\n",
       "    }\n",
       "\n",
       "    .dataframe tbody tr th {\n",
       "        vertical-align: top;\n",
       "    }\n",
       "\n",
       "    .dataframe thead th {\n",
       "        text-align: right;\n",
       "    }\n",
       "</style>\n",
       "<table border=\"1\" class=\"dataframe\">\n",
       "  <thead>\n",
       "    <tr style=\"text-align: right;\">\n",
       "      <th></th>\n",
       "      <th>userId</th>\n",
       "      <th>productId</th>\n",
       "      <th>Rating</th>\n",
       "    </tr>\n",
       "  </thead>\n",
       "  <tbody>\n",
       "    <tr>\n",
       "      <th>0</th>\n",
       "      <td>AYNAH993VDECT</td>\n",
       "      <td>B006ZT4VA0</td>\n",
       "      <td>4.601687</td>\n",
       "    </tr>\n",
       "    <tr>\n",
       "      <th>1</th>\n",
       "      <td>AYNAH993VDECT</td>\n",
       "      <td>B003ZKG10K</td>\n",
       "      <td>4.573137</td>\n",
       "    </tr>\n",
       "    <tr>\n",
       "      <th>2</th>\n",
       "      <td>AYNAH993VDECT</td>\n",
       "      <td>B008LCYIEI</td>\n",
       "      <td>4.500548</td>\n",
       "    </tr>\n",
       "    <tr>\n",
       "      <th>3</th>\n",
       "      <td>AYNAH993VDECT</td>\n",
       "      <td>B00IVPU59W</td>\n",
       "      <td>4.466197</td>\n",
       "    </tr>\n",
       "    <tr>\n",
       "      <th>4</th>\n",
       "      <td>AYNAH993VDECT</td>\n",
       "      <td>B000VIHFZ4</td>\n",
       "      <td>4.462102</td>\n",
       "    </tr>\n",
       "  </tbody>\n",
       "</table>\n",
       "</div>"
      ],
      "text/plain": [
       "          userId   productId    Rating\n",
       "0  AYNAH993VDECT  B006ZT4VA0  4.601687\n",
       "1  AYNAH993VDECT  B003ZKG10K  4.573137\n",
       "2  AYNAH993VDECT  B008LCYIEI  4.500548\n",
       "3  AYNAH993VDECT  B00IVPU59W  4.466197\n",
       "4  AYNAH993VDECT  B000VIHFZ4  4.462102"
      ]
     },
     "metadata": {},
     "output_type": "display_data"
    },
    {
     "data": {
      "text/markdown": [
       "<span style='color:brown'>**Recommending top 5 products for userid : A18YMFFJW974QS ...**</span>"
      ],
      "text/plain": [
       "<IPython.core.display.Markdown object>"
      ]
     },
     "metadata": {},
     "output_type": "display_data"
    },
    {
     "data": {
      "text/html": [
       "<div>\n",
       "<style scoped>\n",
       "    .dataframe tbody tr th:only-of-type {\n",
       "        vertical-align: middle;\n",
       "    }\n",
       "\n",
       "    .dataframe tbody tr th {\n",
       "        vertical-align: top;\n",
       "    }\n",
       "\n",
       "    .dataframe thead th {\n",
       "        text-align: right;\n",
       "    }\n",
       "</style>\n",
       "<table border=\"1\" class=\"dataframe\">\n",
       "  <thead>\n",
       "    <tr style=\"text-align: right;\">\n",
       "      <th></th>\n",
       "      <th>userId</th>\n",
       "      <th>productId</th>\n",
       "      <th>Rating</th>\n",
       "    </tr>\n",
       "  </thead>\n",
       "  <tbody>\n",
       "    <tr>\n",
       "      <th>0</th>\n",
       "      <td>A18YMFFJW974QS</td>\n",
       "      <td>B00BOHNYU6</td>\n",
       "      <td>4.598904</td>\n",
       "    </tr>\n",
       "    <tr>\n",
       "      <th>1</th>\n",
       "      <td>A18YMFFJW974QS</td>\n",
       "      <td>B001MXLD4G</td>\n",
       "      <td>4.501608</td>\n",
       "    </tr>\n",
       "    <tr>\n",
       "      <th>2</th>\n",
       "      <td>A18YMFFJW974QS</td>\n",
       "      <td>B002RM08RE</td>\n",
       "      <td>4.434223</td>\n",
       "    </tr>\n",
       "    <tr>\n",
       "      <th>3</th>\n",
       "      <td>A18YMFFJW974QS</td>\n",
       "      <td>B000TKHGL2</td>\n",
       "      <td>4.406473</td>\n",
       "    </tr>\n",
       "    <tr>\n",
       "      <th>4</th>\n",
       "      <td>A18YMFFJW974QS</td>\n",
       "      <td>B006ZZUK5Y</td>\n",
       "      <td>4.351648</td>\n",
       "    </tr>\n",
       "  </tbody>\n",
       "</table>\n",
       "</div>"
      ],
      "text/plain": [
       "           userId   productId    Rating\n",
       "0  A18YMFFJW974QS  B00BOHNYU6  4.598904\n",
       "1  A18YMFFJW974QS  B001MXLD4G  4.501608\n",
       "2  A18YMFFJW974QS  B002RM08RE  4.434223\n",
       "3  A18YMFFJW974QS  B000TKHGL2  4.406473\n",
       "4  A18YMFFJW974QS  B006ZZUK5Y  4.351648"
      ]
     },
     "metadata": {},
     "output_type": "display_data"
    }
   ],
   "source": [
    "result_svd_user1 = col_fil_svd.recommend(user_id='ANTN61S4L7WG9', n=5)\n",
    "result_svd_user2 = col_fil_svd.recommend(user_id='AYNAH993VDECT', n=5)\n",
    "result_svd_user3 = col_fil_svd.recommend(user_id='A18YMFFJW974QS', n=5)"
   ]
  },
  {
   "cell_type": "markdown",
   "metadata": {},
   "source": [
    "<a id=\"a7b4f\"></a>\n",
    "#### Observations\n",
    "\n",
    "SVD (Singular Value Decomposition) model has an test RMSE value of **0.99** and cross validation RMSE value of **0.981**. Using this model we have a reduced RMSE value compared to KNNWithMeans.\n",
    "\n",
    "AS for the recommendations, **each user will have different products recommended to them** as they are infered by filling out missing entries in the matrix during matrix factorization using SVD."
   ]
  },
  {
   "cell_type": "markdown",
   "metadata": {},
   "source": [
    "<a id=\"a7b5\"></a>\n",
    "### Other SURPRISE algorithms"
   ]
  },
  {
   "cell_type": "code",
   "execution_count": 45,
   "metadata": {},
   "outputs": [
    {
     "name": "stdout",
     "output_type": "stream",
     "text": [
      "Estimating biases using als...\n",
      "Computing the msd similarity matrix...\n",
      "Done computing similarity matrix.\n",
      "Estimating biases using als...\n",
      "Computing the msd similarity matrix...\n",
      "Done computing similarity matrix.\n",
      "Estimating biases using als...\n",
      "Computing the msd similarity matrix...\n",
      "Done computing similarity matrix.\n",
      "Estimating biases using als...\n",
      "Computing the msd similarity matrix...\n",
      "Done computing similarity matrix.\n",
      "Estimating biases using als...\n",
      "Computing the msd similarity matrix...\n",
      "Done computing similarity matrix.\n",
      "Computing the msd similarity matrix...\n",
      "Done computing similarity matrix.\n",
      "Computing the msd similarity matrix...\n",
      "Done computing similarity matrix.\n",
      "Computing the msd similarity matrix...\n",
      "Done computing similarity matrix.\n",
      "Computing the msd similarity matrix...\n",
      "Done computing similarity matrix.\n",
      "Computing the msd similarity matrix...\n",
      "Done computing similarity matrix.\n",
      "Computing the msd similarity matrix...\n",
      "Done computing similarity matrix.\n",
      "Computing the msd similarity matrix...\n",
      "Done computing similarity matrix.\n",
      "Computing the msd similarity matrix...\n",
      "Done computing similarity matrix.\n",
      "Computing the msd similarity matrix...\n",
      "Done computing similarity matrix.\n",
      "Computing the msd similarity matrix...\n",
      "Done computing similarity matrix.\n",
      "Estimating biases using als...\n",
      "Estimating biases using als...\n",
      "Estimating biases using als...\n",
      "Estimating biases using als...\n",
      "Estimating biases using als...\n"
     ]
    },
    {
     "data": {
      "text/html": [
       "<div>\n",
       "<style scoped>\n",
       "    .dataframe tbody tr th:only-of-type {\n",
       "        vertical-align: middle;\n",
       "    }\n",
       "\n",
       "    .dataframe tbody tr th {\n",
       "        vertical-align: top;\n",
       "    }\n",
       "\n",
       "    .dataframe thead th {\n",
       "        text-align: right;\n",
       "    }\n",
       "</style>\n",
       "<table border=\"1\" class=\"dataframe\">\n",
       "  <thead>\n",
       "    <tr style=\"text-align: right;\">\n",
       "      <th></th>\n",
       "      <th>test_rmse</th>\n",
       "      <th>fit_time</th>\n",
       "      <th>test_time</th>\n",
       "    </tr>\n",
       "    <tr>\n",
       "      <th>Algorithm</th>\n",
       "      <th></th>\n",
       "      <th></th>\n",
       "      <th></th>\n",
       "    </tr>\n",
       "  </thead>\n",
       "  <tbody>\n",
       "    <tr>\n",
       "      <th>BaselineOnly</th>\n",
       "      <td>0.978332</td>\n",
       "      <td>0.435758</td>\n",
       "      <td>0.144071</td>\n",
       "    </tr>\n",
       "    <tr>\n",
       "      <th>KNNBaseline</th>\n",
       "      <td>1.042427</td>\n",
       "      <td>0.534411</td>\n",
       "      <td>0.544667</td>\n",
       "    </tr>\n",
       "    <tr>\n",
       "      <th>KNNWithZScore</th>\n",
       "      <td>1.065225</td>\n",
       "      <td>0.253438</td>\n",
       "      <td>0.416954</td>\n",
       "    </tr>\n",
       "    <tr>\n",
       "      <th>CoClustering</th>\n",
       "      <td>1.083245</td>\n",
       "      <td>5.282610</td>\n",
       "      <td>0.235439</td>\n",
       "    </tr>\n",
       "    <tr>\n",
       "      <th>KNNBasic</th>\n",
       "      <td>1.115108</td>\n",
       "      <td>0.119945</td>\n",
       "      <td>0.420931</td>\n",
       "    </tr>\n",
       "    <tr>\n",
       "      <th>NMF</th>\n",
       "      <td>1.140684</td>\n",
       "      <td>4.978839</td>\n",
       "      <td>0.134464</td>\n",
       "    </tr>\n",
       "  </tbody>\n",
       "</table>\n",
       "</div>"
      ],
      "text/plain": [
       "               test_rmse  fit_time  test_time\n",
       "Algorithm                                    \n",
       "BaselineOnly    0.978332  0.435758   0.144071\n",
       "KNNBaseline     1.042427  0.534411   0.544667\n",
       "KNNWithZScore   1.065225  0.253438   0.416954\n",
       "CoClustering    1.083245  5.282610   0.235439\n",
       "KNNBasic        1.115108  0.119945   0.420931\n",
       "NMF             1.140684  4.978839   0.134464"
      ]
     },
     "execution_count": 45,
     "metadata": {},
     "output_type": "execute_result"
    }
   ],
   "source": [
    "from surprise import NMF\n",
    "from surprise import KNNBaseline\n",
    "from surprise import KNNBasic\n",
    "from surprise import KNNWithZScore\n",
    "from surprise import BaselineOnly\n",
    "from surprise import CoClustering\n",
    "benchmark = []\n",
    "# Iterate over all algorithms\n",
    "for algorithm in [NMF(), KNNBaseline(), KNNBasic(), KNNWithZScore(), BaselineOnly(), CoClustering()]:\n",
    "    # Perform cross validation\n",
    "    results = cross_validate(algorithm, surprise_data, measures=['RMSE'], cv=5, verbose=False)\n",
    "    \n",
    "    # Get results & append algorithm name\n",
    "    tmp = pd.DataFrame.from_dict(results).mean(axis=0)\n",
    "    tmp = tmp.append(pd.Series([str(algorithm).split(' ')[0].split('.')[-1]], index=['Algorithm']))\n",
    "    benchmark.append(tmp)\n",
    "    \n",
    "pd.DataFrame(benchmark).set_index('Algorithm').sort_values('test_rmse') "
   ]
  },
  {
   "cell_type": "markdown",
   "metadata": {},
   "source": [
    "<a id=\"a7b5a\"></a>\n",
    "#### Observations\n",
    "\n",
    "Looking at the above result, we can say BaselineOnly model works well with the data as it is having the least RMSE score of 0.978."
   ]
  },
  {
   "cell_type": "markdown",
   "metadata": {},
   "source": [
    "<a id=\"a8\"></a>\n",
    "# Conclusion"
   ]
  },
  {
   "cell_type": "markdown",
   "metadata": {},
   "source": [
    "**Recommender systems** are algorithms aimed at suggesting relevant items to users (items being movies to watch, text to read, products to buy or anything else depending on industries). Recommender systems are really critical in some industries as they can generate a huge amount of income when they are efficient or also be a way to stand out significantly from competitors.\n",
    "\n",
    "We have used 2 different types here,\n",
    "\n",
    "1. Popularity Based Recommender System\n",
    "2. Collaborative Filtering Recommender System\n",
    "\n",
    "Below are the recommended results of same 3 users picked at random for all the models,"
   ]
  },
  {
   "cell_type": "markdown",
   "metadata": {},
   "source": [
    "<a id=\"a8a\"></a>\n",
    "## Popularity Based Recommendation Model"
   ]
  },
  {
   "cell_type": "markdown",
   "metadata": {},
   "source": [
    "Being popularity based recommender model, we have got the same result for all three users i.e. **the model is recommending same products for all the users** as shown below,"
   ]
  },
  {
   "cell_type": "code",
   "execution_count": 39,
   "metadata": {},
   "outputs": [
    {
     "data": {
      "text/html": [
       "<table style=\"display:inline;margin-left:50px !important;margin-right: 40px !important\" border=\"1\" class=\"dataframe\">\n",
       "  <thead>\n",
       "    <tr style=\"text-align: right;\">\n",
       "      <th></th>\n",
       "      <th>productId</th>\n",
       "      <th>RateCount</th>\n",
       "      <th>Rank</th>\n",
       "    </tr>\n",
       "  </thead>\n",
       "  <tbody>\n",
       "    <tr>\n",
       "      <th>30874</th>\n",
       "      <td>B0088CJT4U</td>\n",
       "      <td>142</td>\n",
       "      <td>1.0</td>\n",
       "    </tr>\n",
       "    <tr>\n",
       "      <th>19570</th>\n",
       "      <td>B003ES5ZUU</td>\n",
       "      <td>134</td>\n",
       "      <td>2.0</td>\n",
       "    </tr>\n",
       "    <tr>\n",
       "      <th>30273</th>\n",
       "      <td>B007WTAJTO</td>\n",
       "      <td>126</td>\n",
       "      <td>3.0</td>\n",
       "    </tr>\n",
       "    <tr>\n",
       "      <th>30557</th>\n",
       "      <td>B00829THK0</td>\n",
       "      <td>103</td>\n",
       "      <td>6.0</td>\n",
       "    </tr>\n",
       "    <tr>\n",
       "      <th>17292</th>\n",
       "      <td>B002R5AM7C</td>\n",
       "      <td>97</td>\n",
       "      <td>8.0</td>\n",
       "    </tr>\n",
       "  </tbody>\n",
       "</table style=\"display:inline;margin-left:50px !important;margin-right: 40px !important\"><table style=\"display:inline;margin-left:50px !important;margin-right: 40px !important\" border=\"1\" class=\"dataframe\">\n",
       "  <thead>\n",
       "    <tr style=\"text-align: right;\">\n",
       "      <th></th>\n",
       "      <th>productId</th>\n",
       "      <th>RateCount</th>\n",
       "      <th>Rank</th>\n",
       "    </tr>\n",
       "  </thead>\n",
       "  <tbody>\n",
       "    <tr>\n",
       "      <th>30874</th>\n",
       "      <td>B0088CJT4U</td>\n",
       "      <td>142</td>\n",
       "      <td>1.0</td>\n",
       "    </tr>\n",
       "    <tr>\n",
       "      <th>19570</th>\n",
       "      <td>B003ES5ZUU</td>\n",
       "      <td>134</td>\n",
       "      <td>2.0</td>\n",
       "    </tr>\n",
       "    <tr>\n",
       "      <th>30273</th>\n",
       "      <td>B007WTAJTO</td>\n",
       "      <td>126</td>\n",
       "      <td>3.0</td>\n",
       "    </tr>\n",
       "    <tr>\n",
       "      <th>8700</th>\n",
       "      <td>B000N99BBC</td>\n",
       "      <td>117</td>\n",
       "      <td>4.0</td>\n",
       "    </tr>\n",
       "    <tr>\n",
       "      <th>30561</th>\n",
       "      <td>B00829TIEK</td>\n",
       "      <td>104</td>\n",
       "      <td>5.0</td>\n",
       "    </tr>\n",
       "  </tbody>\n",
       "</table style=\"display:inline;margin-left:50px !important;margin-right: 40px !important\"><table style=\"display:inline;margin-left:50px !important;margin-right: 40px !important\" border=\"1\" class=\"dataframe\">\n",
       "  <thead>\n",
       "    <tr style=\"text-align: right;\">\n",
       "      <th></th>\n",
       "      <th>productId</th>\n",
       "      <th>RateCount</th>\n",
       "      <th>Rank</th>\n",
       "    </tr>\n",
       "  </thead>\n",
       "  <tbody>\n",
       "    <tr>\n",
       "      <th>30874</th>\n",
       "      <td>B0088CJT4U</td>\n",
       "      <td>142</td>\n",
       "      <td>1.0</td>\n",
       "    </tr>\n",
       "    <tr>\n",
       "      <th>19570</th>\n",
       "      <td>B003ES5ZUU</td>\n",
       "      <td>134</td>\n",
       "      <td>2.0</td>\n",
       "    </tr>\n",
       "    <tr>\n",
       "      <th>30273</th>\n",
       "      <td>B007WTAJTO</td>\n",
       "      <td>126</td>\n",
       "      <td>3.0</td>\n",
       "    </tr>\n",
       "    <tr>\n",
       "      <th>8700</th>\n",
       "      <td>B000N99BBC</td>\n",
       "      <td>117</td>\n",
       "      <td>4.0</td>\n",
       "    </tr>\n",
       "    <tr>\n",
       "      <th>30561</th>\n",
       "      <td>B00829TIEK</td>\n",
       "      <td>104</td>\n",
       "      <td>5.0</td>\n",
       "    </tr>\n",
       "  </tbody>\n",
       "</table style=\"display:inline;margin-left:50px !important;margin-right: 40px !important\">"
      ]
     },
     "metadata": {},
     "output_type": "display_data"
    }
   ],
   "source": [
    "display_side_by_side([result_pop_user1, result_pop_user2, result_pop_user3])"
   ]
  },
  {
   "cell_type": "markdown",
   "metadata": {},
   "source": [
    "<a id=\"a8b\"></a>\n",
    "## Collaborative Filtering Recommendation Model"
   ]
  },
  {
   "cell_type": "markdown",
   "metadata": {},
   "source": [
    "<a id=\"a8b1\"></a>\n",
    "### KNNWithMeans Model"
   ]
  },
  {
   "cell_type": "markdown",
   "metadata": {},
   "source": [
    "**KNN (K-Nearest Neighbours) With Means** model has an test RMSE value of **1.04** and cross validation RMSE value of **1.037. Each user will have different products recommended to them** as they are infered based on the ratings provided by the similar users."
   ]
  },
  {
   "cell_type": "code",
   "execution_count": 47,
   "metadata": {},
   "outputs": [
    {
     "data": {
      "text/html": [
       "<table style=\"display:inline;margin-left:50px !important;margin-right: 40px !important\" border=\"1\" class=\"dataframe\">\n",
       "  <thead>\n",
       "    <tr style=\"text-align: right;\">\n",
       "      <th></th>\n",
       "      <th>userId</th>\n",
       "      <th>productId</th>\n",
       "      <th>Rating</th>\n",
       "    </tr>\n",
       "  </thead>\n",
       "  <tbody>\n",
       "    <tr>\n",
       "      <th>0</th>\n",
       "      <td>ANTN61S4L7WG9</td>\n",
       "      <td>B009Z7KMUM</td>\n",
       "      <td>5.000000</td>\n",
       "    </tr>\n",
       "    <tr>\n",
       "      <th>1</th>\n",
       "      <td>ANTN61S4L7WG9</td>\n",
       "      <td>B004CLYEDC</td>\n",
       "      <td>5.000000</td>\n",
       "    </tr>\n",
       "    <tr>\n",
       "      <th>2</th>\n",
       "      <td>ANTN61S4L7WG9</td>\n",
       "      <td>B0099SMFVQ</td>\n",
       "      <td>4.750906</td>\n",
       "    </tr>\n",
       "    <tr>\n",
       "      <th>3</th>\n",
       "      <td>ANTN61S4L7WG9</td>\n",
       "      <td>B00FRMAOIO</td>\n",
       "      <td>4.629167</td>\n",
       "    </tr>\n",
       "    <tr>\n",
       "      <th>4</th>\n",
       "      <td>ANTN61S4L7WG9</td>\n",
       "      <td>B0097CXWUW</td>\n",
       "      <td>4.502918</td>\n",
       "    </tr>\n",
       "  </tbody>\n",
       "</table style=\"display:inline;margin-left:50px !important;margin-right: 40px !important\"><table style=\"display:inline;margin-left:50px !important;margin-right: 40px !important\" border=\"1\" class=\"dataframe\">\n",
       "  <thead>\n",
       "    <tr style=\"text-align: right;\">\n",
       "      <th></th>\n",
       "      <th>userId</th>\n",
       "      <th>productId</th>\n",
       "      <th>Rating</th>\n",
       "    </tr>\n",
       "  </thead>\n",
       "  <tbody>\n",
       "    <tr>\n",
       "      <th>0</th>\n",
       "      <td>AYNAH993VDECT</td>\n",
       "      <td>B00CPIF4G0</td>\n",
       "      <td>4.265306</td>\n",
       "    </tr>\n",
       "    <tr>\n",
       "      <th>1</th>\n",
       "      <td>AYNAH993VDECT</td>\n",
       "      <td>B002FU6KF2</td>\n",
       "      <td>4.265306</td>\n",
       "    </tr>\n",
       "    <tr>\n",
       "      <th>2</th>\n",
       "      <td>AYNAH993VDECT</td>\n",
       "      <td>B005NHTG6O</td>\n",
       "      <td>4.265306</td>\n",
       "    </tr>\n",
       "    <tr>\n",
       "      <th>3</th>\n",
       "      <td>AYNAH993VDECT</td>\n",
       "      <td>B005G0CUP2</td>\n",
       "      <td>4.265306</td>\n",
       "    </tr>\n",
       "    <tr>\n",
       "      <th>4</th>\n",
       "      <td>AYNAH993VDECT</td>\n",
       "      <td>B0038KN114</td>\n",
       "      <td>4.265306</td>\n",
       "    </tr>\n",
       "  </tbody>\n",
       "</table style=\"display:inline;margin-left:50px !important;margin-right: 40px !important\"><table style=\"display:inline;margin-left:50px !important;margin-right: 40px !important\" border=\"1\" class=\"dataframe\">\n",
       "  <thead>\n",
       "    <tr style=\"text-align: right;\">\n",
       "      <th></th>\n",
       "      <th>userId</th>\n",
       "      <th>productId</th>\n",
       "      <th>Rating</th>\n",
       "    </tr>\n",
       "  </thead>\n",
       "  <tbody>\n",
       "    <tr>\n",
       "      <th>0</th>\n",
       "      <td>A18YMFFJW974QS</td>\n",
       "      <td>B001PA94TW</td>\n",
       "      <td>4.261789</td>\n",
       "    </tr>\n",
       "    <tr>\n",
       "      <th>1</th>\n",
       "      <td>A18YMFFJW974QS</td>\n",
       "      <td>B001NZUFN8</td>\n",
       "      <td>4.261789</td>\n",
       "    </tr>\n",
       "    <tr>\n",
       "      <th>2</th>\n",
       "      <td>A18YMFFJW974QS</td>\n",
       "      <td>B0007WWI2O</td>\n",
       "      <td>4.261789</td>\n",
       "    </tr>\n",
       "    <tr>\n",
       "      <th>3</th>\n",
       "      <td>A18YMFFJW974QS</td>\n",
       "      <td>B003QP41EC</td>\n",
       "      <td>4.261789</td>\n",
       "    </tr>\n",
       "    <tr>\n",
       "      <th>4</th>\n",
       "      <td>A18YMFFJW974QS</td>\n",
       "      <td>B002RM08RE</td>\n",
       "      <td>4.156250</td>\n",
       "    </tr>\n",
       "  </tbody>\n",
       "</table style=\"display:inline;margin-left:50px !important;margin-right: 40px !important\">"
      ]
     },
     "metadata": {},
     "output_type": "display_data"
    }
   ],
   "source": [
    "display_side_by_side([result_knn_user1, result_knn_user2, result_knn_user3])"
   ]
  },
  {
   "cell_type": "markdown",
   "metadata": {},
   "source": [
    "<a id=\"a8b2\"></a>\n",
    "### SVD Model"
   ]
  },
  {
   "cell_type": "markdown",
   "metadata": {},
   "source": [
    "**SVD (Singular Value Decomposition) model** has an test RMSE value of **0.99** and cross validation RMSE value of **0.981**. Each user will have different products recommended to them."
   ]
  },
  {
   "cell_type": "code",
   "execution_count": 48,
   "metadata": {},
   "outputs": [
    {
     "data": {
      "text/html": [
       "<table style=\"display:inline;margin-left:50px !important;margin-right: 40px !important\" border=\"1\" class=\"dataframe\">\n",
       "  <thead>\n",
       "    <tr style=\"text-align: right;\">\n",
       "      <th></th>\n",
       "      <th>userId</th>\n",
       "      <th>productId</th>\n",
       "      <th>Rating</th>\n",
       "    </tr>\n",
       "  </thead>\n",
       "  <tbody>\n",
       "    <tr>\n",
       "      <th>0</th>\n",
       "      <td>ANTN61S4L7WG9</td>\n",
       "      <td>B0099SMFVQ</td>\n",
       "      <td>4.635812</td>\n",
       "    </tr>\n",
       "    <tr>\n",
       "      <th>1</th>\n",
       "      <td>ANTN61S4L7WG9</td>\n",
       "      <td>B004CLYEDC</td>\n",
       "      <td>4.550270</td>\n",
       "    </tr>\n",
       "    <tr>\n",
       "      <th>2</th>\n",
       "      <td>ANTN61S4L7WG9</td>\n",
       "      <td>B00HVT27B8</td>\n",
       "      <td>4.537729</td>\n",
       "    </tr>\n",
       "    <tr>\n",
       "      <th>3</th>\n",
       "      <td>ANTN61S4L7WG9</td>\n",
       "      <td>B00HHRP11C</td>\n",
       "      <td>4.532709</td>\n",
       "    </tr>\n",
       "    <tr>\n",
       "      <th>4</th>\n",
       "      <td>ANTN61S4L7WG9</td>\n",
       "      <td>B00E87E1OM</td>\n",
       "      <td>4.420190</td>\n",
       "    </tr>\n",
       "  </tbody>\n",
       "</table style=\"display:inline;margin-left:50px !important;margin-right: 40px !important\"><table style=\"display:inline;margin-left:50px !important;margin-right: 40px !important\" border=\"1\" class=\"dataframe\">\n",
       "  <thead>\n",
       "    <tr style=\"text-align: right;\">\n",
       "      <th></th>\n",
       "      <th>userId</th>\n",
       "      <th>productId</th>\n",
       "      <th>Rating</th>\n",
       "    </tr>\n",
       "  </thead>\n",
       "  <tbody>\n",
       "    <tr>\n",
       "      <th>0</th>\n",
       "      <td>AYNAH993VDECT</td>\n",
       "      <td>B006ZT4VA0</td>\n",
       "      <td>4.601687</td>\n",
       "    </tr>\n",
       "    <tr>\n",
       "      <th>1</th>\n",
       "      <td>AYNAH993VDECT</td>\n",
       "      <td>B003ZKG10K</td>\n",
       "      <td>4.573137</td>\n",
       "    </tr>\n",
       "    <tr>\n",
       "      <th>2</th>\n",
       "      <td>AYNAH993VDECT</td>\n",
       "      <td>B008LCYIEI</td>\n",
       "      <td>4.500548</td>\n",
       "    </tr>\n",
       "    <tr>\n",
       "      <th>3</th>\n",
       "      <td>AYNAH993VDECT</td>\n",
       "      <td>B00IVPU59W</td>\n",
       "      <td>4.466197</td>\n",
       "    </tr>\n",
       "    <tr>\n",
       "      <th>4</th>\n",
       "      <td>AYNAH993VDECT</td>\n",
       "      <td>B000VIHFZ4</td>\n",
       "      <td>4.462102</td>\n",
       "    </tr>\n",
       "  </tbody>\n",
       "</table style=\"display:inline;margin-left:50px !important;margin-right: 40px !important\"><table style=\"display:inline;margin-left:50px !important;margin-right: 40px !important\" border=\"1\" class=\"dataframe\">\n",
       "  <thead>\n",
       "    <tr style=\"text-align: right;\">\n",
       "      <th></th>\n",
       "      <th>userId</th>\n",
       "      <th>productId</th>\n",
       "      <th>Rating</th>\n",
       "    </tr>\n",
       "  </thead>\n",
       "  <tbody>\n",
       "    <tr>\n",
       "      <th>0</th>\n",
       "      <td>A18YMFFJW974QS</td>\n",
       "      <td>B00BOHNYU6</td>\n",
       "      <td>4.598904</td>\n",
       "    </tr>\n",
       "    <tr>\n",
       "      <th>1</th>\n",
       "      <td>A18YMFFJW974QS</td>\n",
       "      <td>B001MXLD4G</td>\n",
       "      <td>4.501608</td>\n",
       "    </tr>\n",
       "    <tr>\n",
       "      <th>2</th>\n",
       "      <td>A18YMFFJW974QS</td>\n",
       "      <td>B002RM08RE</td>\n",
       "      <td>4.434223</td>\n",
       "    </tr>\n",
       "    <tr>\n",
       "      <th>3</th>\n",
       "      <td>A18YMFFJW974QS</td>\n",
       "      <td>B000TKHGL2</td>\n",
       "      <td>4.406473</td>\n",
       "    </tr>\n",
       "    <tr>\n",
       "      <th>4</th>\n",
       "      <td>A18YMFFJW974QS</td>\n",
       "      <td>B006ZZUK5Y</td>\n",
       "      <td>4.351648</td>\n",
       "    </tr>\n",
       "  </tbody>\n",
       "</table style=\"display:inline;margin-left:50px !important;margin-right: 40px !important\">"
      ]
     },
     "metadata": {},
     "output_type": "display_data"
    }
   ],
   "source": [
    "display_side_by_side([result_svd_user1, result_svd_user2, result_svd_user3])"
   ]
  },
  {
   "cell_type": "markdown",
   "metadata": {},
   "source": [
    "**SVD** is better model compared to KNN or Popularity with a better RMSE value of **0.981**. We can also see the products that are recommended in SVD is different to that of KNNWithMeans as SVD uses matrix factorization. This is more useful when the data is sparse with many missing ratings. "
   ]
  },
  {
   "cell_type": "markdown",
   "metadata": {},
   "source": [
    "# END"
   ]
  }
 ],
 "metadata": {
  "kernelspec": {
   "display_name": "Python 3 (ipykernel)",
   "language": "python",
   "name": "python3"
  },
  "language_info": {
   "codemirror_mode": {
    "name": "ipython",
    "version": 3
   },
   "file_extension": ".py",
   "mimetype": "text/x-python",
   "name": "python",
   "nbconvert_exporter": "python",
   "pygments_lexer": "ipython3",
   "version": "3.11.3"
  },
  "toc": {
   "base_numbering": 1,
   "nav_menu": {},
   "number_sections": false,
   "sideBar": true,
   "skip_h1_title": false,
   "title_cell": "Table of Contents",
   "title_sidebar": "Contents",
   "toc_cell": true,
   "toc_position": {
    "height": "calc(100% - 180px)",
    "left": "10px",
    "top": "150px",
    "width": "165px"
   },
   "toc_section_display": true,
   "toc_window_display": true
  }
 },
 "nbformat": 4,
 "nbformat_minor": 4
}
