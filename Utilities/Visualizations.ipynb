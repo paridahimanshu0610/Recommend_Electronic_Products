{
 "cells": [
  {
   "cell_type": "code",
   "execution_count": 12,
   "id": "9006a047",
   "metadata": {},
   "outputs": [],
   "source": [
    "import pandas as pd\n",
    "import matplotlib.pyplot as plt\n",
    "import seaborn as sns"
   ]
  },
  {
   "cell_type": "code",
   "execution_count": 16,
   "id": "401a6929",
   "metadata": {},
   "outputs": [],
   "source": [
    "# Barplot to visualize the relation between 2 categorical variables\n",
    "def plotCat2Cat(df, x_name, y_name):\n",
    "    # Count the occurrences of each combination of categories\n",
    "    count_df = df.groupby([y_name, x_name]).size().reset_index(name='Count')\n",
    "    \n",
    "    # Create a bar plot using seaborn\n",
    "    plt.figure(figsize=(10, 6))\n",
    "    sns.barplot(x=x_name, y='Count', hue=y_name, data=count_df)\n",
    "    \n",
    "    plot_title = 'Count of ' + y_name + ' by ' + x_name\n",
    "    plt.title(plot_title)\n",
    "    plt.xlabel(x_name)\n",
    "    plt.ylabel('Count')\n",
    "    plt.legend(title=y_name)\n",
    "    \n",
    "    if df[x_name].nunique()>20:  # Rotating the x-labels by 90 deg if there more than 20 xlabels\n",
    "        plt.xticks(rotation=90)\n",
    "    \n",
    "    plt.show()"
   ]
  },
  {
   "cell_type": "code",
   "execution_count": 14,
   "id": "55307d0c",
   "metadata": {},
   "outputs": [],
   "source": [
    "# Boxplot to visualize the relation between a categorical and a numerical variable\n",
    "def plotCat2Num(df, x_name, y_name):\n",
    "    # Create a boxplot using seaborn\n",
    "    plt.figure(figsize=(10, 6))\n",
    "    sns.boxplot(x=x_name, y=y_name, data=df)\n",
    "    \n",
    "    plot_title = 'Boxplot of ' + y_name + ' by ' + x_name\n",
    "    plt.title(plot_title)\n",
    "    plt.xlabel(x_name)\n",
    "    plt.ylabel(y_name)\n",
    "    plt.show()"
   ]
  },
  {
   "cell_type": "code",
   "execution_count": 1,
   "id": "9fb24f3f",
   "metadata": {},
   "outputs": [],
   "source": [
    "# Countplot for categorical features with percentage label on the bars\n",
    "def count_plot(df, col_name):\n",
    "    target_percentage = (df[col_name].value_counts()/df[col_name].count()) * 100\n",
    "\n",
    "    # Create the count plot with percentages as labels\n",
    "    plt.figure(figsize=[8, 4])\n",
    "    \n",
    "    count_order = df[col_name].value_counts().index\n",
    "    ax = sns.countplot(data=df, x=col_name, order=count_order)\n",
    "    plt.title(col_name + ' Distribution')\n",
    "    plt.ylabel('Count')\n",
    "\n",
    "    # Add percentage labels to the bars using target_percentage\n",
    "    for p, percentage in zip(ax.patches, target_percentage):\n",
    "        ax.annotate(f\"{percentage:.2f}%\", (p.get_x() + p.get_width() / 2., p.get_height()),\n",
    "                    ha='center', va='center', fontsize=10, color='black', xytext=(0, 5),\n",
    "                    textcoords='offset points')\n",
    "\n",
    "    plt.xticks(rotation=10)\n",
    "    plt.show()"
   ]
  }
 ],
 "metadata": {
  "kernelspec": {
   "display_name": "Python 3 (ipykernel)",
   "language": "python",
   "name": "python3"
  },
  "language_info": {
   "codemirror_mode": {
    "name": "ipython",
    "version": 3
   },
   "file_extension": ".py",
   "mimetype": "text/x-python",
   "name": "python",
   "nbconvert_exporter": "python",
   "pygments_lexer": "ipython3",
   "version": "3.11.3"
  }
 },
 "nbformat": 4,
 "nbformat_minor": 5
}
